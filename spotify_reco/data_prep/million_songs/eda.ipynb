{
 "cells": [
  {
   "cell_type": "code",
   "execution_count": 2,
   "metadata": {},
   "outputs": [],
   "source": [
    "import songs10k as s10\n",
    "import pandas as pd\n",
    "import user_interaction as ui"
   ]
  },
  {
   "cell_type": "code",
   "execution_count": 3,
   "metadata": {},
   "outputs": [
    {
     "data": {
      "text/html": [
       "<div>\n",
       "<style scoped>\n",
       "    .dataframe tbody tr th:only-of-type {\n",
       "        vertical-align: middle;\n",
       "    }\n",
       "\n",
       "    .dataframe tbody tr th {\n",
       "        vertical-align: top;\n",
       "    }\n",
       "\n",
       "    .dataframe thead th {\n",
       "        text-align: right;\n",
       "    }\n",
       "</style>\n",
       "<table border=\"1\" class=\"dataframe\">\n",
       "  <thead>\n",
       "    <tr style=\"text-align: right;\">\n",
       "      <th></th>\n",
       "      <th>user_id</th>\n",
       "      <th>song_id</th>\n",
       "      <th>play_count</th>\n",
       "    </tr>\n",
       "  </thead>\n",
       "  <tbody>\n",
       "    <tr>\n",
       "      <th>0</th>\n",
       "      <td>b80344d063b5ccb3212f76538f3d9e43d87dca9e</td>\n",
       "      <td>SOAKIMP12A8C130995</td>\n",
       "      <td>1</td>\n",
       "    </tr>\n",
       "    <tr>\n",
       "      <th>1</th>\n",
       "      <td>b80344d063b5ccb3212f76538f3d9e43d87dca9e</td>\n",
       "      <td>SOAPDEY12A81C210A9</td>\n",
       "      <td>1</td>\n",
       "    </tr>\n",
       "    <tr>\n",
       "      <th>2</th>\n",
       "      <td>b80344d063b5ccb3212f76538f3d9e43d87dca9e</td>\n",
       "      <td>SOBBMDR12A8C13253B</td>\n",
       "      <td>2</td>\n",
       "    </tr>\n",
       "    <tr>\n",
       "      <th>3</th>\n",
       "      <td>b80344d063b5ccb3212f76538f3d9e43d87dca9e</td>\n",
       "      <td>SOBFNSP12AF72A0E22</td>\n",
       "      <td>1</td>\n",
       "    </tr>\n",
       "    <tr>\n",
       "      <th>4</th>\n",
       "      <td>b80344d063b5ccb3212f76538f3d9e43d87dca9e</td>\n",
       "      <td>SOBFOVM12A58A7D494</td>\n",
       "      <td>1</td>\n",
       "    </tr>\n",
       "    <tr>\n",
       "      <th>...</th>\n",
       "      <td>...</td>\n",
       "      <td>...</td>\n",
       "      <td>...</td>\n",
       "    </tr>\n",
       "    <tr>\n",
       "      <th>495</th>\n",
       "      <td>17aa9f6dbdf753831da8f38c71b66b64373de613</td>\n",
       "      <td>SOYOHMP12A6D4F6244</td>\n",
       "      <td>1</td>\n",
       "    </tr>\n",
       "    <tr>\n",
       "      <th>496</th>\n",
       "      <td>17aa9f6dbdf753831da8f38c71b66b64373de613</td>\n",
       "      <td>SOZISSK12A3F1EAD88</td>\n",
       "      <td>1</td>\n",
       "    </tr>\n",
       "    <tr>\n",
       "      <th>497</th>\n",
       "      <td>17aa9f6dbdf753831da8f38c71b66b64373de613</td>\n",
       "      <td>SOZRLJL12A8C14415F</td>\n",
       "      <td>1</td>\n",
       "    </tr>\n",
       "    <tr>\n",
       "      <th>498</th>\n",
       "      <td>d6589314c0a9bcbca4fee0c93b14bc402363afea</td>\n",
       "      <td>SOADQPP12A67020C82</td>\n",
       "      <td>12</td>\n",
       "    </tr>\n",
       "    <tr>\n",
       "      <th>499</th>\n",
       "      <td>d6589314c0a9bcbca4fee0c93b14bc402363afea</td>\n",
       "      <td>SOAFTRR12AF72A8D4D</td>\n",
       "      <td>1</td>\n",
       "    </tr>\n",
       "  </tbody>\n",
       "</table>\n",
       "<p>500 rows × 3 columns</p>\n",
       "</div>"
      ],
      "text/plain": [
       "                                      user_id             song_id play_count\n",
       "0    b80344d063b5ccb3212f76538f3d9e43d87dca9e  SOAKIMP12A8C130995          1\n",
       "1    b80344d063b5ccb3212f76538f3d9e43d87dca9e  SOAPDEY12A81C210A9          1\n",
       "2    b80344d063b5ccb3212f76538f3d9e43d87dca9e  SOBBMDR12A8C13253B          2\n",
       "3    b80344d063b5ccb3212f76538f3d9e43d87dca9e  SOBFNSP12AF72A0E22          1\n",
       "4    b80344d063b5ccb3212f76538f3d9e43d87dca9e  SOBFOVM12A58A7D494          1\n",
       "..                                        ...                 ...        ...\n",
       "495  17aa9f6dbdf753831da8f38c71b66b64373de613  SOYOHMP12A6D4F6244          1\n",
       "496  17aa9f6dbdf753831da8f38c71b66b64373de613  SOZISSK12A3F1EAD88          1\n",
       "497  17aa9f6dbdf753831da8f38c71b66b64373de613  SOZRLJL12A8C14415F          1\n",
       "498  d6589314c0a9bcbca4fee0c93b14bc402363afea  SOADQPP12A67020C82         12\n",
       "499  d6589314c0a9bcbca4fee0c93b14bc402363afea  SOAFTRR12AF72A8D4D          1\n",
       "\n",
       "[500 rows x 3 columns]"
      ]
     },
     "execution_count": 3,
     "metadata": {},
     "output_type": "execute_result"
    }
   ],
   "source": [
    "pd.DataFrame(ui.read(\"../../datasets/million_song/train_triplets.txt\",500))"
   ]
  },
  {
   "cell_type": "code",
   "execution_count": 4,
   "metadata": {},
   "outputs": [
    {
     "name": "stdout",
     "output_type": "stream",
     "text": [
      "number of songs in this file: 10\n",
      "'Cols' object has no attribute 'idx_artist_mbtags'\n",
      "'Cols' object has no attribute 'idx_artist_mbtags'\n",
      "Read song 0 / 9 from file: ../../datasets/million_song/million_song_10k_subset/all.h5\n",
      "'Cols' object has no attribute 'idx_artist_mbtags'\n",
      "'Cols' object has no attribute 'idx_artist_mbtags'\n",
      "Read song 1 / 9 from file: ../../datasets/million_song/million_song_10k_subset/all.h5\n",
      "'Cols' object has no attribute 'idx_artist_mbtags'\n",
      "'Cols' object has no attribute 'idx_artist_mbtags'\n",
      "Read song 2 / 9 from file: ../../datasets/million_song/million_song_10k_subset/all.h5\n",
      "'Cols' object has no attribute 'idx_artist_mbtags'\n",
      "'Cols' object has no attribute 'idx_artist_mbtags'\n",
      "Read song 3 / 9 from file: ../../datasets/million_song/million_song_10k_subset/all.h5\n",
      "'Cols' object has no attribute 'idx_artist_mbtags'\n",
      "'Cols' object has no attribute 'idx_artist_mbtags'\n",
      "Read song 4 / 9 from file: ../../datasets/million_song/million_song_10k_subset/all.h5\n",
      "'Cols' object has no attribute 'idx_artist_mbtags'\n",
      "'Cols' object has no attribute 'idx_artist_mbtags'\n",
      "Read song 5 / 9 from file: ../../datasets/million_song/million_song_10k_subset/all.h5\n",
      "'Cols' object has no attribute 'idx_artist_mbtags'\n",
      "'Cols' object has no attribute 'idx_artist_mbtags'\n",
      "Read song 6 / 9 from file: ../../datasets/million_song/million_song_10k_subset/all.h5\n",
      "'Cols' object has no attribute 'idx_artist_mbtags'\n",
      "'Cols' object has no attribute 'idx_artist_mbtags'\n",
      "Read song 7 / 9 from file: ../../datasets/million_song/million_song_10k_subset/all.h5\n",
      "'Cols' object has no attribute 'idx_artist_mbtags'\n",
      "'Cols' object has no attribute 'idx_artist_mbtags'\n",
      "Read song 8 / 9 from file: ../../datasets/million_song/million_song_10k_subset/all.h5\n",
      "'Cols' object has no attribute 'idx_artist_mbtags'\n",
      "'Cols' object has no attribute 'idx_artist_mbtags'\n",
      "Read song 9 / 9 from file: ../../datasets/million_song/million_song_10k_subset/all.h5\n"
     ]
    }
   ],
   "source": [
    "df=pd.DataFrame(s10.read(\"../../datasets/million_song/million_song_10k_subset/all.h5\",10))"
   ]
  },
  {
   "cell_type": "code",
   "execution_count": 5,
   "metadata": {},
   "outputs": [
    {
     "data": {
      "text/plain": [
       "Index(['analysis_sample_rate', 'artist_7digitalid', 'artist_familiarity',\n",
       "       'artist_hotttnesss', 'artist_id', 'artist_latitude', 'artist_location',\n",
       "       'artist_longitude', 'artist_mbid', 'artist_mbtags',\n",
       "       'artist_mbtags_count', 'artist_name', 'artist_playmeid', 'artist_terms',\n",
       "       'artist_terms_freq', 'artist_terms_weight', 'audio_md5',\n",
       "       'bars_confidence', 'bars_start', 'beats_confidence', 'beats_start',\n",
       "       'danceability', 'duration', 'end_of_fade_in', 'energy', 'key',\n",
       "       'key_confidence', 'loudness', 'mode', 'mode_confidence', 'release',\n",
       "       'release_7digitalid', 'sections_confidence', 'sections_start',\n",
       "       'segments_confidence', 'segments_loudness_max',\n",
       "       'segments_loudness_max_time', 'segments_loudness_start',\n",
       "       'segments_pitches', 'segments_start', 'segments_timbre',\n",
       "       'similar_artists', 'song_hotttnesss', 'song_id', 'start_of_fade_out',\n",
       "       'tatums_confidence', 'tatums_start', 'tempo', 'time_signature',\n",
       "       'time_signature_confidence', 'title', 'track_7digitalid', 'track_id',\n",
       "       'year'],\n",
       "      dtype='object')"
      ]
     },
     "execution_count": 5,
     "metadata": {},
     "output_type": "execute_result"
    }
   ],
   "source": [
    "df.columns"
   ]
  }
 ],
 "metadata": {
  "kernelspec": {
   "display_name": "Python 3",
   "language": "python",
   "name": "python3"
  },
  "language_info": {
   "codemirror_mode": {
    "name": "ipython",
    "version": 3
   },
   "file_extension": ".py",
   "mimetype": "text/x-python",
   "name": "python",
   "nbconvert_exporter": "python",
   "pygments_lexer": "ipython3",
   "version": "3.12.0"
  }
 },
 "nbformat": 4,
 "nbformat_minor": 2
}
