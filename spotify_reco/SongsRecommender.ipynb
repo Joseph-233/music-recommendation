{
 "cells": [
  {
   "cell_type": "markdown",
   "metadata": {},
   "source": [
    "# Songs Recommender System    \n",
    "\n",
    "Recommender systems are a popular class of information filtering system. The goal of such systems is to predict the preference an user would give to an item/ service and thus \"recommend\" them with those relevant items. Recommender systems are known to improve user experience on many webportals, especially the ones which involve lots of social interaction or shopping. Here, we explore **content based recommenders** that leverage:   \n",
    "1. Popularity of items   \n",
    "2. Matrix Factorization (Singular Value Decomposition)\n",
    "\n",
    "<strong>Dataset:</strong>    \n",
    "We use the \"Taste profile subset\" dataset that is auxillary to the popular million songs dataset available at: [The Million Song Dataset](https://labrosa.ee.columbia.edu/millionsong/)\n",
    "It is a freely-available collection of audio features and metadata for a million contemporary popular music tracks. The purpose of choosing such a large dataset is to build and test <font color=\"blue\">recommender systems at scale</font>. Although the entire dataset is of 280 GB, we deal only with **3 GB** of available sample data which still exhibits characteristics of a large dataset while being moderately computationally intensive to model. "
   ]
  },
  {
   "cell_type": "code",
   "execution_count": 31,
   "metadata": {
    "ExecuteTime": {
     "end_time": "2018-06-07T08:36:17.581864Z",
     "start_time": "2018-06-07T08:36:15.905119Z"
    }
   },
   "outputs": [],
   "source": [
    "import pandas as pd\n",
    "import sqlite3\n",
    "import matplotlib.pyplot as plt;\n",
    "import numpy as np\n",
    "import matplotlib.pyplot as plt\n",
    "from sklearn.model_selection import train_test_split\n",
    "from google.cloud import bigquery\n",
    "from collections import defaultdict\n",
    "import os"
   ]
  },
  {
   "cell_type": "markdown",
   "metadata": {},
   "source": [
    "## Setting up BigQuery"
   ]
  },
  {
   "cell_type": "markdown",
   "metadata": {},
   "source": [
    "Note: You will have to change the path to the key in your computer."
   ]
  },
  {
   "cell_type": "code",
   "execution_count": 2,
   "metadata": {},
   "outputs": [],
   "source": [
    "import os\n",
    "\n",
    "os.environ[\"GOOGLE_APPLICATION_CREDENTIALS\"] = \"/Users/gretalerer/Desktop/music-recommendation/chatbots-project-417113-53eaab96a4be.json\"\n"
   ]
  },
  {
   "cell_type": "code",
   "execution_count": 3,
   "metadata": {},
   "outputs": [],
   "source": [
    "client = bigquery.Client(location=\"US\") \n"
   ]
  },
  {
   "cell_type": "markdown",
   "metadata": {},
   "source": [
    "### 1. Import Data from log files and basic exploration \n",
    "Since, the overall dataset has more than a million unique users and records about 384,000 songs, we would work with a subset (10000 records) of data"
   ]
  },
  {
   "cell_type": "code",
   "execution_count": 7,
   "metadata": {
    "ExecuteTime": {
     "end_time": "2018-06-07T05:36:13.425427Z",
     "start_time": "2018-06-07T05:36:13.376811Z"
    },
    "collapsed": true
   },
   "outputs": [],
   "source": [
    "query = \"\"\"\n",
    "SELECT * FROM `chatbots-project-417113.raw_data.train_triplets` LIMIT 10000\n",
    "\"\"\"\n",
    "dfsongs = client.query(query).to_dataframe()"
   ]
  },
  {
   "cell_type": "markdown",
   "metadata": {},
   "source": [
    "Let us inspect some of the imported records and other characteristics of data before we proceed further"
   ]
  },
  {
   "cell_type": "code",
   "execution_count": 8,
   "metadata": {
    "ExecuteTime": {
     "end_time": "2018-06-07T05:37:04.249026Z",
     "start_time": "2018-06-07T05:37:04.214431Z"
    }
   },
   "outputs": [
    {
     "data": {
      "text/html": [
       "<div>\n",
       "<style scoped>\n",
       "    .dataframe tbody tr th:only-of-type {\n",
       "        vertical-align: middle;\n",
       "    }\n",
       "\n",
       "    .dataframe tbody tr th {\n",
       "        vertical-align: top;\n",
       "    }\n",
       "\n",
       "    .dataframe thead th {\n",
       "        text-align: right;\n",
       "    }\n",
       "</style>\n",
       "<table border=\"1\" class=\"dataframe\">\n",
       "  <thead>\n",
       "    <tr style=\"text-align: right;\">\n",
       "      <th></th>\n",
       "      <th>user</th>\n",
       "      <th>song</th>\n",
       "      <th>play_count</th>\n",
       "    </tr>\n",
       "  </thead>\n",
       "  <tbody>\n",
       "    <tr>\n",
       "      <th>0</th>\n",
       "      <td>b493eda768d25cfb48dec2567b0826cdb9f6eef4</td>\n",
       "      <td>SOCBSZW12AB01891C1</td>\n",
       "      <td>256</td>\n",
       "    </tr>\n",
       "    <tr>\n",
       "      <th>1</th>\n",
       "      <td>d50046ceb4db11dc162649a0da27733ff5194b47</td>\n",
       "      <td>SOAAAGQ12A8C1420C8</td>\n",
       "      <td>1</td>\n",
       "    </tr>\n",
       "    <tr>\n",
       "      <th>2</th>\n",
       "      <td>1e93ab57208a575ad87872ff3a25c1743632d0a1</td>\n",
       "      <td>SOAAAGQ12A8C1420C8</td>\n",
       "      <td>1</td>\n",
       "    </tr>\n",
       "    <tr>\n",
       "      <th>3</th>\n",
       "      <td>a0846981ab7c3d06cf1d966e7109774e306eb61a</td>\n",
       "      <td>SOAAAGQ12A8C1420C8</td>\n",
       "      <td>1</td>\n",
       "    </tr>\n",
       "    <tr>\n",
       "      <th>4</th>\n",
       "      <td>6e8d4e7d986e077d334da41638e63b9030710141</td>\n",
       "      <td>SOAAAGQ12A8C1420C8</td>\n",
       "      <td>1</td>\n",
       "    </tr>\n",
       "  </tbody>\n",
       "</table>\n",
       "</div>"
      ],
      "text/plain": [
       "                                       user                song  play_count\n",
       "0  b493eda768d25cfb48dec2567b0826cdb9f6eef4  SOCBSZW12AB01891C1         256\n",
       "1  d50046ceb4db11dc162649a0da27733ff5194b47  SOAAAGQ12A8C1420C8           1\n",
       "2  1e93ab57208a575ad87872ff3a25c1743632d0a1  SOAAAGQ12A8C1420C8           1\n",
       "3  a0846981ab7c3d06cf1d966e7109774e306eb61a  SOAAAGQ12A8C1420C8           1\n",
       "4  6e8d4e7d986e077d334da41638e63b9030710141  SOAAAGQ12A8C1420C8           1"
      ]
     },
     "execution_count": 8,
     "metadata": {},
     "output_type": "execute_result"
    }
   ],
   "source": [
    "dfsongs.head(5)"
   ]
  },
  {
   "cell_type": "markdown",
   "metadata": {},
   "source": [
    "### Power-Law in real world systems\n",
    "   Next, we are interested to know the number of unique users that we need to consider to build an useful recommender system. However, in most real world web applications, we see that only a few number of users consume a majority of the services while most other users use the services very rarely. In such a scenario, we need to take into account only those frequent song listeners to build a significant recommender.   \n",
    "\n",
    "<strong>Efficiently summarizing 3.5 million records:</strong>    \n",
    "    So, to decide the percentage of such users, we need to group the records by user id. However, it would be inefficient to use pandas grouping functions over 3.5 million records. Hence, we would iterate over the rows of records and summarize the user count.   "
   ]
  },
  {
   "cell_type": "markdown",
   "metadata": {},
   "source": [
    "### 2. Summarizing records by users and songs:\n",
    "\n",
    "We first summarize the records by users and then by songs.    \n",
    "<strong>2.1 Users - play count summary </strong>"
   ]
  },
  {
   "cell_type": "code",
   "execution_count": 12,
   "metadata": {
    "ExecuteTime": {
     "end_time": "2018-06-07T06:08:53.541076Z",
     "start_time": "2018-06-07T06:06:30.655042Z"
    }
   },
   "outputs": [],
   "source": [
    "usersDict = defaultdict(int)\n",
    "\n",
    "for index, row in dfsongs.iterrows():\n",
    "        user = row['user']\n",
    "        play_count = row['play_count']\n",
    "        usersDict[user] += play_count\n",
    "        \n",
    "userPlayCountList = [{'user': u, 'play_count': p} for u, p in usersDict.items()]\n",
    "dfSongsPlayCount = pd.DataFrame(userPlayCountList)\n",
    "dfSongsPlayCount = dfSongsPlayCount.sort_values(by = 'play_count', ascending = False)\n",
    "#dfSongsPlayCount.to_csv(\"songs_play_count.csv\", index=None)"
   ]
  },
  {
   "cell_type": "markdown",
   "metadata": {},
   "source": [
    "As seen earlier, now we arbitrarily consider top 40% of the songs play count and need to determine the number of users accounting for this percentage. So, we consider only top 100,000 users ranked according to number of songs listened by them."
   ]
  },
  {
   "cell_type": "code",
   "execution_count": 13,
   "metadata": {
    "ExecuteTime": {
     "end_time": "2018-06-07T06:50:57.170703Z",
     "start_time": "2018-06-07T06:50:57.011794Z"
    }
   },
   "outputs": [],
   "source": [
    "totalPlayCount = sum(dfSongsPlayCount.play_count)\n",
    "(float(dfSongsPlayCount.head(n=100000).play_count.sum())/totalPlayCount)*100\n",
    "dfUserSubset = dfSongsPlayCount.head(n=100000)"
   ]
  },
  {
   "cell_type": "markdown",
   "metadata": {},
   "source": [
    "<strong>2.2 Songs - play count summary:</strong>"
   ]
  },
  {
   "cell_type": "code",
   "execution_count": 14,
   "metadata": {
    "ExecuteTime": {
     "end_time": "2018-06-07T06:49:18.365258Z",
     "start_time": "2018-06-07T06:46:47.545522Z"
    },
    "collapsed": true
   },
   "outputs": [],
   "source": [
    "from collections import defaultdict\n",
    "\n",
    "# Initialize a default dictionary to store play counts by song\n",
    "songsDict = defaultdict(int)\n",
    "\n",
    "# Iterate over the DataFrame records\n",
    "for index, row in dfsongs.iterrows():\n",
    "    # Fetch song id and play count from the DataFrame\n",
    "    song = row['song'] \n",
    "    play_count = row['play_count']  \n",
    "\n",
    "    # Update song play count for a song\n",
    "    songsDict[song] += play_count\n",
    "\n",
    "# Convert the default dictionary to a list of dictionaries\n",
    "songPlayCountList = [{'song': s, 'play_count': p} for s, p in songsDict.items()]\n",
    "\n",
    "# Convert the list of dictionaries to a DataFrame\n",
    "dfSongsPlaySummary = pd.DataFrame(songPlayCountList)\n",
    "\n",
    "# Arrange the songs played records in descending order to facilitate further analysis\n",
    "dfSongsPlaySummary = dfSongsPlaySummary.sort_values(by='play_count', ascending=False)\n"
   ]
  },
  {
   "cell_type": "code",
   "execution_count": 15,
   "metadata": {
    "ExecuteTime": {
     "end_time": "2018-06-07T06:49:35.792021Z",
     "start_time": "2018-06-07T06:49:35.778120Z"
    }
   },
   "outputs": [
    {
     "data": {
      "text/plain": [
       "100.0"
      ]
     },
     "execution_count": 15,
     "metadata": {},
     "output_type": "execute_result"
    }
   ],
   "source": [
    "(float(dfSongsPlaySummary.head(n=30000).play_count.sum())/totalPlayCount)*100"
   ]
  },
  {
   "cell_type": "markdown",
   "metadata": {},
   "source": [
    "<font color=\"blue\">Observation:</font>     \n",
    "We observe that only top 30% of the songs are listened on almost 80% of the occassions and less than 40% of the users listen to almost all the songs.   \n",
    "So, we subset the songs and users summary datasets accordingly.   "
   ]
  },
  {
   "cell_type": "code",
   "execution_count": 16,
   "metadata": {
    "ExecuteTime": {
     "end_time": "2018-06-07T06:51:27.148237Z",
     "start_time": "2018-06-07T06:51:27.132191Z"
    },
    "collapsed": true
   },
   "outputs": [],
   "source": [
    "dfSongPlayCountSubset = dfSongsPlaySummary.head(n=30000)"
   ]
  },
  {
   "cell_type": "markdown",
   "metadata": {},
   "source": [
    "Now, we have obtained top 30% of the popular songs that users listen. Next, we need to identify these songs from the original dataset that contained play counts corresponding to each user for these songs."
   ]
  },
  {
   "cell_type": "code",
   "execution_count": 18,
   "metadata": {
    "ExecuteTime": {
     "end_time": "2018-06-07T07:08:53.388338Z",
     "start_time": "2018-06-07T07:05:34.141770Z"
    },
    "collapsed": true
   },
   "outputs": [],
   "source": [
    "dfSongsTopUsers = dfsongs[dfsongs['user'].isin(dfUserSubset['user'])]\n",
    "\n",
    "dfSongsTopSongs = dfSongsTopUsers[dfSongsTopUsers['song'].isin(dfSongPlayCountSubset['song'])]\n"
   ]
  },
  {
   "cell_type": "code",
   "execution_count": 19,
   "metadata": {
    "ExecuteTime": {
     "end_time": "2018-06-07T07:10:48.841329Z",
     "start_time": "2018-06-07T07:09:59.832110Z"
    }
   },
   "outputs": [
    {
     "data": {
      "text/plain": [
       "(10000, 3)"
      ]
     },
     "execution_count": 19,
     "metadata": {},
     "output_type": "execute_result"
    }
   ],
   "source": [
    "#Find the number of records in this subset\n",
    "dfSongsTopSongs.shape"
   ]
  },
  {
   "cell_type": "markdown",
   "metadata": {},
   "source": [
    "So, we have obtained about 1 Million records related to top 30% of the popular songs. We also delete the unwanted subset dataframes to free up the memory"
   ]
  },
  {
   "cell_type": "code",
   "execution_count": 22,
   "metadata": {
    "ExecuteTime": {
     "end_time": "2018-06-07T07:14:25.213103Z",
     "start_time": "2018-06-07T07:14:23.028855Z"
    },
    "collapsed": true
   },
   "outputs": [],
   "source": [
    "del dfsongs \n",
    "del dfSongsTopUsers"
   ]
  },
  {
   "cell_type": "markdown",
   "metadata": {},
   "source": [
    "Looking at the few records from the newly obtained subset of popular songs"
   ]
  },
  {
   "cell_type": "code",
   "execution_count": 23,
   "metadata": {
    "ExecuteTime": {
     "end_time": "2018-06-07T07:15:21.515613Z",
     "start_time": "2018-06-07T07:15:21.429271Z"
    },
    "scrolled": true
   },
   "outputs": [
    {
     "data": {
      "text/html": [
       "<div>\n",
       "<style scoped>\n",
       "    .dataframe tbody tr th:only-of-type {\n",
       "        vertical-align: middle;\n",
       "    }\n",
       "\n",
       "    .dataframe tbody tr th {\n",
       "        vertical-align: top;\n",
       "    }\n",
       "\n",
       "    .dataframe thead th {\n",
       "        text-align: right;\n",
       "    }\n",
       "</style>\n",
       "<table border=\"1\" class=\"dataframe\">\n",
       "  <thead>\n",
       "    <tr style=\"text-align: right;\">\n",
       "      <th></th>\n",
       "      <th>user</th>\n",
       "      <th>song</th>\n",
       "      <th>play_count</th>\n",
       "    </tr>\n",
       "  </thead>\n",
       "  <tbody>\n",
       "    <tr>\n",
       "      <th>0</th>\n",
       "      <td>b493eda768d25cfb48dec2567b0826cdb9f6eef4</td>\n",
       "      <td>SOCBSZW12AB01891C1</td>\n",
       "      <td>256</td>\n",
       "    </tr>\n",
       "    <tr>\n",
       "      <th>1</th>\n",
       "      <td>d50046ceb4db11dc162649a0da27733ff5194b47</td>\n",
       "      <td>SOAAAGQ12A8C1420C8</td>\n",
       "      <td>1</td>\n",
       "    </tr>\n",
       "    <tr>\n",
       "      <th>2</th>\n",
       "      <td>1e93ab57208a575ad87872ff3a25c1743632d0a1</td>\n",
       "      <td>SOAAAGQ12A8C1420C8</td>\n",
       "      <td>1</td>\n",
       "    </tr>\n",
       "    <tr>\n",
       "      <th>3</th>\n",
       "      <td>a0846981ab7c3d06cf1d966e7109774e306eb61a</td>\n",
       "      <td>SOAAAGQ12A8C1420C8</td>\n",
       "      <td>1</td>\n",
       "    </tr>\n",
       "    <tr>\n",
       "      <th>4</th>\n",
       "      <td>6e8d4e7d986e077d334da41638e63b9030710141</td>\n",
       "      <td>SOAAAGQ12A8C1420C8</td>\n",
       "      <td>1</td>\n",
       "    </tr>\n",
       "  </tbody>\n",
       "</table>\n",
       "</div>"
      ],
      "text/plain": [
       "                                       user                song  play_count\n",
       "0  b493eda768d25cfb48dec2567b0826cdb9f6eef4  SOCBSZW12AB01891C1         256\n",
       "1  d50046ceb4db11dc162649a0da27733ff5194b47  SOAAAGQ12A8C1420C8           1\n",
       "2  1e93ab57208a575ad87872ff3a25c1743632d0a1  SOAAAGQ12A8C1420C8           1\n",
       "3  a0846981ab7c3d06cf1d966e7109774e306eb61a  SOAAAGQ12A8C1420C8           1\n",
       "4  6e8d4e7d986e077d334da41638e63b9030710141  SOAAAGQ12A8C1420C8           1"
      ]
     },
     "execution_count": 23,
     "metadata": {},
     "output_type": "execute_result"
    }
   ],
   "source": [
    "dfSongsTopSongs.head(5)"
   ]
  },
  {
   "cell_type": "markdown",
   "metadata": {},
   "source": [
    "### 3. Enhance Dataset with Song Track Details\n",
    "Though we have obtained a subset of popular songs, it lacks song titles, artist names and other such details. These details can be retrived from a available supporting dataset of metadata in SQLite format at [Million Songs Metdata](https://labrosa.ee.columbia.edu/millionsong/pages/getting-dataset#subset)"
   ]
  },
  {
   "cell_type": "code",
   "execution_count": 25,
   "metadata": {
    "ExecuteTime": {
     "end_time": "2018-06-07T07:18:36.794373Z",
     "start_time": "2018-06-07T07:18:36.783927Z"
    }
   },
   "outputs": [],
   "source": [
    "query = \"\"\"\n",
    "SELECT * FROM `chatbots-project-417113.raw_data.track_metadata_db` \n",
    "\"\"\"\n",
    "dfTrackMetadata = client.query(query).to_dataframe()\n",
    "dfTrackMetadata_sub = dfTrackMetadata[dfTrackMetadata.song_id.isin(dfSongPlayCountSubset.song)]\n"
   ]
  },
  {
   "cell_type": "code",
   "execution_count": 14,
   "metadata": {
    "ExecuteTime": {
     "end_time": "2018-06-07T07:21:27.635433Z",
     "start_time": "2018-06-07T07:21:08.640579Z"
    },
    "collapsed": true
   },
   "outputs": [],
   "source": [
    "#Retrieve details of song tracks from the metadata file\n",
    "dfTrackMetadata = pd.read_sql(con=conn, sql='select * from songs')\n",
    "dfTrackMetadata_sub = dfTrackMetadata[dfTrackMetadata.song_id.isin(list(dfSongPlayCountSubset.song))]"
   ]
  },
  {
   "cell_type": "markdown",
   "metadata": {},
   "source": [
    "Observe the song details dataset"
   ]
  },
  {
   "cell_type": "code",
   "execution_count": 26,
   "metadata": {
    "ExecuteTime": {
     "end_time": "2018-06-07T07:28:20.773052Z",
     "start_time": "2018-06-07T07:28:20.742139Z"
    },
    "scrolled": true
   },
   "outputs": [
    {
     "data": {
      "text/html": [
       "<div>\n",
       "<style scoped>\n",
       "    .dataframe tbody tr th:only-of-type {\n",
       "        vertical-align: middle;\n",
       "    }\n",
       "\n",
       "    .dataframe tbody tr th {\n",
       "        vertical-align: top;\n",
       "    }\n",
       "\n",
       "    .dataframe thead th {\n",
       "        text-align: right;\n",
       "    }\n",
       "</style>\n",
       "<table border=\"1\" class=\"dataframe\">\n",
       "  <thead>\n",
       "    <tr style=\"text-align: right;\">\n",
       "      <th></th>\n",
       "      <th>track_id</th>\n",
       "      <th>title</th>\n",
       "      <th>song_id</th>\n",
       "      <th>release</th>\n",
       "      <th>artist_id</th>\n",
       "      <th>artist_mbid</th>\n",
       "      <th>artist_name</th>\n",
       "      <th>duration</th>\n",
       "      <th>artist_familiarity</th>\n",
       "      <th>artist_hotttnesss</th>\n",
       "      <th>year</th>\n",
       "      <th>track_7digitalid</th>\n",
       "      <th>shs_perf</th>\n",
       "      <th>shs_work</th>\n",
       "    </tr>\n",
       "  </thead>\n",
       "  <tbody>\n",
       "    <tr>\n",
       "      <th>131</th>\n",
       "      <td>TRMOLXY128F9333968</td>\n",
       "      <td>Amnistía</td>\n",
       "      <td>SOASWIB12AB0181858</td>\n",
       "      <td>Poetics</td>\n",
       "      <td>AR00FVC1187FB5BE3E</td>\n",
       "      <td>ecd6ec3e-18d3-45e3-91a0-06e7beeb5f0a</td>\n",
       "      <td>Panda</td>\n",
       "      <td>120.47628</td>\n",
       "      <td>0.768987</td>\n",
       "      <td>0.550031</td>\n",
       "      <td>0</td>\n",
       "      <td>7057023</td>\n",
       "      <td>-1</td>\n",
       "      <td>0</td>\n",
       "    </tr>\n",
       "    <tr>\n",
       "      <th>144</th>\n",
       "      <td>TRQYZHP12903CCBDCA</td>\n",
       "      <td>Ilasha</td>\n",
       "      <td>SOASCSI12AB0188BBC</td>\n",
       "      <td>La Revancha Del Principe Charro</td>\n",
       "      <td>AR00FVC1187FB5BE3E</td>\n",
       "      <td>ecd6ec3e-18d3-45e3-91a0-06e7beeb5f0a</td>\n",
       "      <td>Panda</td>\n",
       "      <td>188.81261</td>\n",
       "      <td>0.768987</td>\n",
       "      <td>0.550031</td>\n",
       "      <td>0</td>\n",
       "      <td>6519290</td>\n",
       "      <td>-1</td>\n",
       "      <td>0</td>\n",
       "    </tr>\n",
       "    <tr>\n",
       "      <th>185</th>\n",
       "      <td>TRGCRGP128F4277FA3</td>\n",
       "      <td>Pop Quiz (Multiple Choice)</td>\n",
       "      <td>SOANGRR12A8C13FD86</td>\n",
       "      <td>Warning Shots</td>\n",
       "      <td>AR00JIO1187B9A5A15</td>\n",
       "      <td>5251b5a0-3e3b-4d07-a152-585009575310</td>\n",
       "      <td>Saigon</td>\n",
       "      <td>272.69179</td>\n",
       "      <td>0.720672</td>\n",
       "      <td>0.421353</td>\n",
       "      <td>2004</td>\n",
       "      <td>2908418</td>\n",
       "      <td>-1</td>\n",
       "      <td>0</td>\n",
       "    </tr>\n",
       "  </tbody>\n",
       "</table>\n",
       "</div>"
      ],
      "text/plain": [
       "               track_id                       title             song_id  \\\n",
       "131  TRMOLXY128F9333968                    Amnistía  SOASWIB12AB0181858   \n",
       "144  TRQYZHP12903CCBDCA                      Ilasha  SOASCSI12AB0188BBC   \n",
       "185  TRGCRGP128F4277FA3  Pop Quiz (Multiple Choice)  SOANGRR12A8C13FD86   \n",
       "\n",
       "                             release           artist_id  \\\n",
       "131                          Poetics  AR00FVC1187FB5BE3E   \n",
       "144  La Revancha Del Principe Charro  AR00FVC1187FB5BE3E   \n",
       "185                    Warning Shots  AR00JIO1187B9A5A15   \n",
       "\n",
       "                              artist_mbid artist_name   duration  \\\n",
       "131  ecd6ec3e-18d3-45e3-91a0-06e7beeb5f0a       Panda  120.47628   \n",
       "144  ecd6ec3e-18d3-45e3-91a0-06e7beeb5f0a       Panda  188.81261   \n",
       "185  5251b5a0-3e3b-4d07-a152-585009575310      Saigon  272.69179   \n",
       "\n",
       "     artist_familiarity  artist_hotttnesss  year  track_7digitalid  shs_perf  \\\n",
       "131            0.768987           0.550031     0           7057023        -1   \n",
       "144            0.768987           0.550031     0           6519290        -1   \n",
       "185            0.720672           0.421353  2004           2908418        -1   \n",
       "\n",
       "     shs_work  \n",
       "131         0  \n",
       "144         0  \n",
       "185         0  "
      ]
     },
     "execution_count": 26,
     "metadata": {},
     "output_type": "execute_result"
    }
   ],
   "source": [
    "dfTrackMetadata_sub.head(3)"
   ]
  },
  {
   "cell_type": "markdown",
   "metadata": {},
   "source": [
    "### 4. Preprocessing the data \n",
    "Now that we have all the relevant information, we need to aggregate the song details and user Ids and remove the unwanted columns from the final cleaned table"
   ]
  },
  {
   "cell_type": "code",
   "execution_count": 27,
   "metadata": {
    "ExecuteTime": {
     "end_time": "2018-06-07T07:45:04.893127Z",
     "start_time": "2018-06-07T07:44:38.804286Z"
    }
   },
   "outputs": [
    {
     "name": "stderr",
     "output_type": "stream",
     "text": [
      "/var/folders/sw/6q2vf2dx0r502xm9jxzvdxzc0000gn/T/ipykernel_90251/3474166419.py:4: SettingWithCopyWarning: \n",
      "A value is trying to be set on a copy of a slice from a DataFrame\n",
      "\n",
      "See the caveats in the documentation: https://pandas.pydata.org/pandas-docs/stable/user_guide/indexing.html#returning-a-view-versus-a-copy\n",
      "  dfTrackMetadata_sub.drop_duplicates(['song_id'], inplace=True)\n"
     ]
    },
    {
     "data": {
      "text/html": [
       "<div>\n",
       "<style scoped>\n",
       "    .dataframe tbody tr th:only-of-type {\n",
       "        vertical-align: middle;\n",
       "    }\n",
       "\n",
       "    .dataframe tbody tr th {\n",
       "        vertical-align: top;\n",
       "    }\n",
       "\n",
       "    .dataframe thead th {\n",
       "        text-align: right;\n",
       "    }\n",
       "</style>\n",
       "<table border=\"1\" class=\"dataframe\">\n",
       "  <thead>\n",
       "    <tr style=\"text-align: right;\">\n",
       "      <th></th>\n",
       "      <th>user</th>\n",
       "      <th>song</th>\n",
       "      <th>title</th>\n",
       "      <th>play_count</th>\n",
       "      <th>release</th>\n",
       "      <th>artist_name</th>\n",
       "      <th>year</th>\n",
       "    </tr>\n",
       "  </thead>\n",
       "  <tbody>\n",
       "    <tr>\n",
       "      <th>0</th>\n",
       "      <td>b493eda768d25cfb48dec2567b0826cdb9f6eef4</td>\n",
       "      <td>SOCBSZW12AB01891C1</td>\n",
       "      <td>XRDS</td>\n",
       "      <td>256</td>\n",
       "      <td>Ritual Noise</td>\n",
       "      <td>Covenant</td>\n",
       "      <td>0</td>\n",
       "    </tr>\n",
       "    <tr>\n",
       "      <th>1</th>\n",
       "      <td>d50046ceb4db11dc162649a0da27733ff5194b47</td>\n",
       "      <td>SOAAAGQ12A8C1420C8</td>\n",
       "      <td>Orgelblut</td>\n",
       "      <td>1</td>\n",
       "      <td>Dolores</td>\n",
       "      <td>Bohren &amp; Der Club Of Gore</td>\n",
       "      <td>2008</td>\n",
       "    </tr>\n",
       "    <tr>\n",
       "      <th>2</th>\n",
       "      <td>1e93ab57208a575ad87872ff3a25c1743632d0a1</td>\n",
       "      <td>SOAAAGQ12A8C1420C8</td>\n",
       "      <td>Orgelblut</td>\n",
       "      <td>1</td>\n",
       "      <td>Dolores</td>\n",
       "      <td>Bohren &amp; Der Club Of Gore</td>\n",
       "      <td>2008</td>\n",
       "    </tr>\n",
       "  </tbody>\n",
       "</table>\n",
       "</div>"
      ],
      "text/plain": [
       "                                       user                song      title  \\\n",
       "0  b493eda768d25cfb48dec2567b0826cdb9f6eef4  SOCBSZW12AB01891C1       XRDS   \n",
       "1  d50046ceb4db11dc162649a0da27733ff5194b47  SOAAAGQ12A8C1420C8  Orgelblut   \n",
       "2  1e93ab57208a575ad87872ff3a25c1743632d0a1  SOAAAGQ12A8C1420C8  Orgelblut   \n",
       "\n",
       "   play_count       release                artist_name  year  \n",
       "0         256  Ritual Noise                   Covenant     0  \n",
       "1           1       Dolores  Bohren & Der Club Of Gore  2008  \n",
       "2           1       Dolores  Bohren & Der Club Of Gore  2008  "
      ]
     },
     "execution_count": 27,
     "metadata": {},
     "output_type": "execute_result"
    }
   ],
   "source": [
    "del(dfTrackMetadata_sub['track_id'])\n",
    "del(dfTrackMetadata_sub['artist_mbid'])\n",
    "#Drop duplicate songs ids, as we are concerned with only unique songs\n",
    "dfTrackMetadata_sub.drop_duplicates(['song_id'], inplace=True)\n",
    "#Join the earlier obtained top popular songs dataset and this metadata dataframe on song id\n",
    "dfPopularSongMetaDataMerged = pd.merge(dfSongsTopSongs, dfTrackMetadata_sub, how=\"left\", \n",
    "                                      left_on=\"song\", right_on = \"song_id\")\n",
    "#Keep only relevant columns\n",
    "dfPopularSongMetaDataMerged = dfPopularSongMetaDataMerged[['user', 'song', 'title',\n",
    "                                                           'play_count', 'release', 'artist_name', 'year']]\n",
    "dfPopularSongMetaDataMerged.head(3)"
   ]
  },
  {
   "cell_type": "code",
   "execution_count": 28,
   "metadata": {},
   "outputs": [],
   "source": [
    "dfPopularSongMetaDataMerged.to_csv(\"popular_songs_metadata.csv\", index=False)"
   ]
  },
  {
   "cell_type": "code",
   "execution_count": null,
   "metadata": {},
   "outputs": [],
   "source": [
    "# List of intermediary CSV file paths to delete\n",
    "files_to_delete = [\n",
    "    \"songs_play_count.csv\",\n",
    "    \"songs_summary.csv\",\n",
    "    \"popular_songs_metadata.csv\",\n",
    "    # Add any other file paths here\n",
    "]\n",
    "\n",
    "# Loop through the list and delete each file\n",
    "for file_path in files_to_delete:\n",
    "    try:\n",
    "        os.remove(file_path)\n",
    "        print(f\"Deleted {file_path}\")\n",
    "    except OSError as e:\n",
    "        print(f\"Error deleting {file_path}: {e.strerror}\")\n"
   ]
  }
 ],
 "metadata": {
  "kernelspec": {
   "display_name": "Python 3",
   "language": "python",
   "name": "python3"
  },
  "language_info": {
   "codemirror_mode": {
    "name": "ipython",
    "version": 3
   },
   "file_extension": ".py",
   "mimetype": "text/x-python",
   "name": "python",
   "nbconvert_exporter": "python",
   "pygments_lexer": "ipython3",
   "version": "3.12.1"
  }
 },
 "nbformat": 4,
 "nbformat_minor": 2
}
