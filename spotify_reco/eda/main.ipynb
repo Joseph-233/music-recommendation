{
 "cells": [
  {
   "cell_type": "markdown",
   "metadata": {},
   "source": [
    "# EDA"
   ]
  },
  {
   "cell_type": "markdown",
   "metadata": {},
   "source": [
    "#### Imports"
   ]
  },
  {
   "cell_type": "code",
   "execution_count": 1,
   "metadata": {},
   "outputs": [],
   "source": [
    "import pandas as pd\n",
    "import numpy as np\n",
    "import matplotlib.pyplot as plt\n",
    "import missingno as msno\n",
    "import seaborn as sns\n",
    "from sklearn.preprocessing import LabelEncoder\n",
    "from sklearn.experimental import enable_iterative_imputer\n",
    "from sklearn.impute import IterativeImputer\n",
    "from sklearn.ensemble import RandomForestRegressor"
   ]
  },
  {
   "cell_type": "markdown",
   "metadata": {},
   "source": [
    "#### Load the data"
   ]
  },
  {
   "cell_type": "code",
   "execution_count": 2,
   "metadata": {},
   "outputs": [],
   "source": [
    "df = pd.read_csv('../popular_songs_metadata.csv')"
   ]
  },
  {
   "cell_type": "markdown",
   "metadata": {},
   "source": [
    "#### Looking at the Data"
   ]
  },
  {
   "cell_type": "code",
   "execution_count": 3,
   "metadata": {},
   "outputs": [
    {
     "data": {
      "text/plain": [
       "(9000, 20)"
      ]
     },
     "execution_count": 3,
     "metadata": {},
     "output_type": "execute_result"
    }
   ],
   "source": [
    "df.shape"
   ]
  },
  {
   "cell_type": "code",
   "execution_count": 4,
   "metadata": {},
   "outputs": [
    {
     "data": {
      "text/html": [
       "<div>\n",
       "<style scoped>\n",
       "    .dataframe tbody tr th:only-of-type {\n",
       "        vertical-align: middle;\n",
       "    }\n",
       "\n",
       "    .dataframe tbody tr th {\n",
       "        vertical-align: top;\n",
       "    }\n",
       "\n",
       "    .dataframe thead th {\n",
       "        text-align: right;\n",
       "    }\n",
       "</style>\n",
       "<table border=\"1\" class=\"dataframe\">\n",
       "  <thead>\n",
       "    <tr style=\"text-align: right;\">\n",
       "      <th></th>\n",
       "      <th>user</th>\n",
       "      <th>song</th>\n",
       "      <th>title</th>\n",
       "      <th>play_count</th>\n",
       "      <th>release</th>\n",
       "      <th>artist_name</th>\n",
       "      <th>year</th>\n",
       "      <th>genres</th>\n",
       "      <th>danceability</th>\n",
       "      <th>energy</th>\n",
       "      <th>key</th>\n",
       "      <th>loudness</th>\n",
       "      <th>mode</th>\n",
       "      <th>speechiness</th>\n",
       "      <th>acousticness</th>\n",
       "      <th>instrumentalness</th>\n",
       "      <th>liveness</th>\n",
       "      <th>valence</th>\n",
       "      <th>tempo</th>\n",
       "      <th>id</th>\n",
       "    </tr>\n",
       "  </thead>\n",
       "  <tbody>\n",
       "    <tr>\n",
       "      <th>0</th>\n",
       "      <td>b493eda768d25cfb48dec2567b0826cdb9f6eef4</td>\n",
       "      <td>SOCBSZW12AB01891C1</td>\n",
       "      <td>XRDS</td>\n",
       "      <td>256</td>\n",
       "      <td>Ritual Noise</td>\n",
       "      <td>Covenant</td>\n",
       "      <td>0</td>\n",
       "      <td>aggrotech, cyberpunk, dark wave, ebm, electro-...</td>\n",
       "      <td>0.663</td>\n",
       "      <td>0.7950</td>\n",
       "      <td>5.0</td>\n",
       "      <td>-11.129</td>\n",
       "      <td>0.0</td>\n",
       "      <td>0.0448</td>\n",
       "      <td>0.044</td>\n",
       "      <td>0.443</td>\n",
       "      <td>0.239</td>\n",
       "      <td>0.4970</td>\n",
       "      <td>128.017</td>\n",
       "      <td>5fum2pFX6VMbBAGnGWUcrz</td>\n",
       "    </tr>\n",
       "    <tr>\n",
       "      <th>1</th>\n",
       "      <td>d50046ceb4db11dc162649a0da27733ff5194b47</td>\n",
       "      <td>SOAAAGQ12A8C1420C8</td>\n",
       "      <td>Orgelblut</td>\n",
       "      <td>1</td>\n",
       "      <td>Dolores</td>\n",
       "      <td>Bohren &amp; Der Club Of Gore</td>\n",
       "      <td>2008</td>\n",
       "      <td>dark jazz, drone</td>\n",
       "      <td>0.257</td>\n",
       "      <td>0.0031</td>\n",
       "      <td>9.0</td>\n",
       "      <td>-21.904</td>\n",
       "      <td>0.0</td>\n",
       "      <td>0.0446</td>\n",
       "      <td>0.819</td>\n",
       "      <td>0.890</td>\n",
       "      <td>0.117</td>\n",
       "      <td>0.0659</td>\n",
       "      <td>129.709</td>\n",
       "      <td>69PD6UA92JMTJQOpe7sbqw</td>\n",
       "    </tr>\n",
       "    <tr>\n",
       "      <th>2</th>\n",
       "      <td>1e93ab57208a575ad87872ff3a25c1743632d0a1</td>\n",
       "      <td>SOAAAGQ12A8C1420C8</td>\n",
       "      <td>Orgelblut</td>\n",
       "      <td>1</td>\n",
       "      <td>Dolores</td>\n",
       "      <td>Bohren &amp; Der Club Of Gore</td>\n",
       "      <td>2008</td>\n",
       "      <td>dark jazz, drone</td>\n",
       "      <td>0.257</td>\n",
       "      <td>0.0031</td>\n",
       "      <td>9.0</td>\n",
       "      <td>-21.904</td>\n",
       "      <td>0.0</td>\n",
       "      <td>0.0446</td>\n",
       "      <td>0.819</td>\n",
       "      <td>0.890</td>\n",
       "      <td>0.117</td>\n",
       "      <td>0.0659</td>\n",
       "      <td>129.709</td>\n",
       "      <td>69PD6UA92JMTJQOpe7sbqw</td>\n",
       "    </tr>\n",
       "    <tr>\n",
       "      <th>3</th>\n",
       "      <td>a0846981ab7c3d06cf1d966e7109774e306eb61a</td>\n",
       "      <td>SOAAAGQ12A8C1420C8</td>\n",
       "      <td>Orgelblut</td>\n",
       "      <td>1</td>\n",
       "      <td>Dolores</td>\n",
       "      <td>Bohren &amp; Der Club Of Gore</td>\n",
       "      <td>2008</td>\n",
       "      <td>dark jazz, drone</td>\n",
       "      <td>0.257</td>\n",
       "      <td>0.0031</td>\n",
       "      <td>9.0</td>\n",
       "      <td>-21.904</td>\n",
       "      <td>0.0</td>\n",
       "      <td>0.0446</td>\n",
       "      <td>0.819</td>\n",
       "      <td>0.890</td>\n",
       "      <td>0.117</td>\n",
       "      <td>0.0659</td>\n",
       "      <td>129.709</td>\n",
       "      <td>69PD6UA92JMTJQOpe7sbqw</td>\n",
       "    </tr>\n",
       "    <tr>\n",
       "      <th>4</th>\n",
       "      <td>6e8d4e7d986e077d334da41638e63b9030710141</td>\n",
       "      <td>SOAAAGQ12A8C1420C8</td>\n",
       "      <td>Orgelblut</td>\n",
       "      <td>1</td>\n",
       "      <td>Dolores</td>\n",
       "      <td>Bohren &amp; Der Club Of Gore</td>\n",
       "      <td>2008</td>\n",
       "      <td>dark jazz, drone</td>\n",
       "      <td>0.257</td>\n",
       "      <td>0.0031</td>\n",
       "      <td>9.0</td>\n",
       "      <td>-21.904</td>\n",
       "      <td>0.0</td>\n",
       "      <td>0.0446</td>\n",
       "      <td>0.819</td>\n",
       "      <td>0.890</td>\n",
       "      <td>0.117</td>\n",
       "      <td>0.0659</td>\n",
       "      <td>129.709</td>\n",
       "      <td>69PD6UA92JMTJQOpe7sbqw</td>\n",
       "    </tr>\n",
       "  </tbody>\n",
       "</table>\n",
       "</div>"
      ],
      "text/plain": [
       "                                       user                song      title  \\\n",
       "0  b493eda768d25cfb48dec2567b0826cdb9f6eef4  SOCBSZW12AB01891C1       XRDS   \n",
       "1  d50046ceb4db11dc162649a0da27733ff5194b47  SOAAAGQ12A8C1420C8  Orgelblut   \n",
       "2  1e93ab57208a575ad87872ff3a25c1743632d0a1  SOAAAGQ12A8C1420C8  Orgelblut   \n",
       "3  a0846981ab7c3d06cf1d966e7109774e306eb61a  SOAAAGQ12A8C1420C8  Orgelblut   \n",
       "4  6e8d4e7d986e077d334da41638e63b9030710141  SOAAAGQ12A8C1420C8  Orgelblut   \n",
       "\n",
       "   play_count       release                artist_name  year  \\\n",
       "0         256  Ritual Noise                   Covenant     0   \n",
       "1           1       Dolores  Bohren & Der Club Of Gore  2008   \n",
       "2           1       Dolores  Bohren & Der Club Of Gore  2008   \n",
       "3           1       Dolores  Bohren & Der Club Of Gore  2008   \n",
       "4           1       Dolores  Bohren & Der Club Of Gore  2008   \n",
       "\n",
       "                                              genres  danceability  energy  \\\n",
       "0  aggrotech, cyberpunk, dark wave, ebm, electro-...         0.663  0.7950   \n",
       "1                                   dark jazz, drone         0.257  0.0031   \n",
       "2                                   dark jazz, drone         0.257  0.0031   \n",
       "3                                   dark jazz, drone         0.257  0.0031   \n",
       "4                                   dark jazz, drone         0.257  0.0031   \n",
       "\n",
       "   key  loudness  mode  speechiness  acousticness  instrumentalness  liveness  \\\n",
       "0  5.0   -11.129   0.0       0.0448         0.044             0.443     0.239   \n",
       "1  9.0   -21.904   0.0       0.0446         0.819             0.890     0.117   \n",
       "2  9.0   -21.904   0.0       0.0446         0.819             0.890     0.117   \n",
       "3  9.0   -21.904   0.0       0.0446         0.819             0.890     0.117   \n",
       "4  9.0   -21.904   0.0       0.0446         0.819             0.890     0.117   \n",
       "\n",
       "   valence    tempo                      id  \n",
       "0   0.4970  128.017  5fum2pFX6VMbBAGnGWUcrz  \n",
       "1   0.0659  129.709  69PD6UA92JMTJQOpe7sbqw  \n",
       "2   0.0659  129.709  69PD6UA92JMTJQOpe7sbqw  \n",
       "3   0.0659  129.709  69PD6UA92JMTJQOpe7sbqw  \n",
       "4   0.0659  129.709  69PD6UA92JMTJQOpe7sbqw  "
      ]
     },
     "execution_count": 4,
     "metadata": {},
     "output_type": "execute_result"
    }
   ],
   "source": [
    "df.head()"
   ]
  },
  {
   "cell_type": "code",
   "execution_count": 5,
   "metadata": {},
   "outputs": [
    {
     "name": "stdout",
     "output_type": "stream",
     "text": [
      "<class 'pandas.core.frame.DataFrame'>\n",
      "RangeIndex: 9000 entries, 0 to 8999\n",
      "Data columns (total 20 columns):\n",
      " #   Column            Non-Null Count  Dtype  \n",
      "---  ------            --------------  -----  \n",
      " 0   user              9000 non-null   object \n",
      " 1   song              9000 non-null   object \n",
      " 2   title             9000 non-null   object \n",
      " 3   play_count        9000 non-null   int64  \n",
      " 4   release           9000 non-null   object \n",
      " 5   artist_name       9000 non-null   object \n",
      " 6   year              9000 non-null   int64  \n",
      " 7   genres            6969 non-null   object \n",
      " 8   danceability      7622 non-null   float64\n",
      " 9   energy            7622 non-null   float64\n",
      " 10  key               7622 non-null   float64\n",
      " 11  loudness          7622 non-null   float64\n",
      " 12  mode              7622 non-null   float64\n",
      " 13  speechiness       7622 non-null   float64\n",
      " 14  acousticness      7622 non-null   float64\n",
      " 15  instrumentalness  7622 non-null   float64\n",
      " 16  liveness          7622 non-null   float64\n",
      " 17  valence           7622 non-null   float64\n",
      " 18  tempo             7622 non-null   float64\n",
      " 19  id                7622 non-null   object \n",
      "dtypes: float64(11), int64(2), object(7)\n",
      "memory usage: 1.4+ MB\n"
     ]
    }
   ],
   "source": [
    "df.info()"
   ]
  },
  {
   "cell_type": "code",
   "execution_count": 6,
   "metadata": {},
   "outputs": [
    {
     "data": {
      "text/plain": [
       "user                   0\n",
       "song                   0\n",
       "title                  0\n",
       "play_count             0\n",
       "release                0\n",
       "artist_name            0\n",
       "year                   0\n",
       "genres              2031\n",
       "danceability        1378\n",
       "energy              1378\n",
       "key                 1378\n",
       "loudness            1378\n",
       "mode                1378\n",
       "speechiness         1378\n",
       "acousticness        1378\n",
       "instrumentalness    1378\n",
       "liveness            1378\n",
       "valence             1378\n",
       "tempo               1378\n",
       "id                  1378\n",
       "dtype: int64"
      ]
     },
     "execution_count": 6,
     "metadata": {},
     "output_type": "execute_result"
    }
   ],
   "source": [
    "df.isnull().sum()"
   ]
  },
  {
   "cell_type": "code",
   "execution_count": 7,
   "metadata": {},
   "outputs": [],
   "source": [
    "df.drop(columns=['genres', 'id'], inplace=True, axis=1)"
   ]
  },
  {
   "cell_type": "code",
   "execution_count": 8,
   "metadata": {},
   "outputs": [
    {
     "data": {
      "text/plain": [
       "user                0.000000\n",
       "song                0.000000\n",
       "title               0.000000\n",
       "play_count          0.000000\n",
       "release             0.000000\n",
       "artist_name         0.000000\n",
       "year                0.000000\n",
       "danceability        0.153111\n",
       "energy              0.153111\n",
       "key                 0.153111\n",
       "loudness            0.153111\n",
       "mode                0.153111\n",
       "speechiness         0.153111\n",
       "acousticness        0.153111\n",
       "instrumentalness    0.153111\n",
       "liveness            0.153111\n",
       "valence             0.153111\n",
       "tempo               0.153111\n",
       "dtype: float64"
      ]
     },
     "execution_count": 8,
     "metadata": {},
     "output_type": "execute_result"
    }
   ],
   "source": [
    "df.isnull().sum()/df.shape[0]"
   ]
  },
  {
   "cell_type": "code",
   "execution_count": 9,
   "metadata": {},
   "outputs": [
    {
     "data": {
      "image/png": "[encoded data removed]",
      "text/plain": [
       "<Figure size 2500x1000 with 2 Axes>"
      ]
     },
     "metadata": {},
     "output_type": "display_data"
    }
   ],
   "source": [
    "msno.matrix(df)\n",
    "plt.show()"
   ]
  },
  {
   "cell_type": "markdown",
   "metadata": {},
   "source": [
    "### Handling missing values by imputing them with a RandomForestRegressor"
   ]
  },
  {
   "cell_type": "code",
   "execution_count": 10,
   "metadata": {},
   "outputs": [
    {
     "name": "stderr",
     "output_type": "stream",
     "text": [
      "/Users/gretalerer/miniconda3/envs/reco/lib/python3.12/site-packages/sklearn/impute/_iterative.py:801: ConvergenceWarning: [IterativeImputer] Early stopping criterion not reached.\n",
      "  warnings.warn(\n"
     ]
    }
   ],
   "source": [
    "columns_to_impute = [\n",
    "    'danceability', 'energy', 'key', 'loudness', 'mode', \n",
    "    'speechiness', 'acousticness', 'instrumentalness', \n",
    "    'liveness', 'valence', 'tempo']\n",
    "\n",
    "data_for_imputation = df[columns_to_impute]\n",
    "\n",
    "imputer = IterativeImputer(estimator=RandomForestRegressor(), missing_values=np.nan, max_iter=10, random_state=0)\n",
    "imputed_data = imputer.fit_transform(data_for_imputation)\n",
    "df[columns_to_impute] = imputed_data"
   ]
  },
  {
   "cell_type": "code",
   "execution_count": 11,
   "metadata": {},
   "outputs": [
    {
     "data": {
      "text/plain": [
       "user                0.0\n",
       "song                0.0\n",
       "title               0.0\n",
       "play_count          0.0\n",
       "release             0.0\n",
       "artist_name         0.0\n",
       "year                0.0\n",
       "danceability        0.0\n",
       "energy              0.0\n",
       "key                 0.0\n",
       "loudness            0.0\n",
       "mode                0.0\n",
       "speechiness         0.0\n",
       "acousticness        0.0\n",
       "instrumentalness    0.0\n",
       "liveness            0.0\n",
       "valence             0.0\n",
       "tempo               0.0\n",
       "dtype: float64"
      ]
     },
     "execution_count": 11,
     "metadata": {},
     "output_type": "execute_result"
    }
   ],
   "source": [
    "df.isnull().sum()/df.shape[0]"
   ]
  },
  {
   "cell_type": "markdown",
   "metadata": {},
   "source": [
    "# Starting the exploration"
   ]
  },
  {
   "cell_type": "code",
   "execution_count": 12,
   "metadata": {},
   "outputs": [
    {
     "data": {
      "text/html": [
       "<div>\n",
       "<style scoped>\n",
       "    .dataframe tbody tr th:only-of-type {\n",
       "        vertical-align: middle;\n",
       "    }\n",
       "\n",
       "    .dataframe tbody tr th {\n",
       "        vertical-align: top;\n",
       "    }\n",
       "\n",
       "    .dataframe thead th {\n",
       "        text-align: right;\n",
       "    }\n",
       "</style>\n",
       "<table border=\"1\" class=\"dataframe\">\n",
       "  <thead>\n",
       "    <tr style=\"text-align: right;\">\n",
       "      <th></th>\n",
       "      <th>user</th>\n",
       "      <th>song</th>\n",
       "      <th>title</th>\n",
       "      <th>play_count</th>\n",
       "      <th>release</th>\n",
       "      <th>artist_name</th>\n",
       "      <th>year</th>\n",
       "      <th>danceability</th>\n",
       "      <th>energy</th>\n",
       "      <th>key</th>\n",
       "      <th>loudness</th>\n",
       "      <th>mode</th>\n",
       "      <th>speechiness</th>\n",
       "      <th>acousticness</th>\n",
       "      <th>instrumentalness</th>\n",
       "      <th>liveness</th>\n",
       "      <th>valence</th>\n",
       "      <th>tempo</th>\n",
       "    </tr>\n",
       "  </thead>\n",
       "  <tbody>\n",
       "    <tr>\n",
       "      <th>0</th>\n",
       "      <td>b493eda768d25cfb48dec2567b0826cdb9f6eef4</td>\n",
       "      <td>SOCBSZW12AB01891C1</td>\n",
       "      <td>XRDS</td>\n",
       "      <td>256</td>\n",
       "      <td>Ritual Noise</td>\n",
       "      <td>Covenant</td>\n",
       "      <td>0</td>\n",
       "      <td>0.663</td>\n",
       "      <td>0.7950</td>\n",
       "      <td>5.0</td>\n",
       "      <td>-11.129</td>\n",
       "      <td>0.0</td>\n",
       "      <td>0.0448</td>\n",
       "      <td>0.044</td>\n",
       "      <td>0.443</td>\n",
       "      <td>0.239</td>\n",
       "      <td>0.4970</td>\n",
       "      <td>128.017</td>\n",
       "    </tr>\n",
       "    <tr>\n",
       "      <th>1</th>\n",
       "      <td>d50046ceb4db11dc162649a0da27733ff5194b47</td>\n",
       "      <td>SOAAAGQ12A8C1420C8</td>\n",
       "      <td>Orgelblut</td>\n",
       "      <td>1</td>\n",
       "      <td>Dolores</td>\n",
       "      <td>Bohren &amp; Der Club Of Gore</td>\n",
       "      <td>2008</td>\n",
       "      <td>0.257</td>\n",
       "      <td>0.0031</td>\n",
       "      <td>9.0</td>\n",
       "      <td>-21.904</td>\n",
       "      <td>0.0</td>\n",
       "      <td>0.0446</td>\n",
       "      <td>0.819</td>\n",
       "      <td>0.890</td>\n",
       "      <td>0.117</td>\n",
       "      <td>0.0659</td>\n",
       "      <td>129.709</td>\n",
       "    </tr>\n",
       "    <tr>\n",
       "      <th>2</th>\n",
       "      <td>1e93ab57208a575ad87872ff3a25c1743632d0a1</td>\n",
       "      <td>SOAAAGQ12A8C1420C8</td>\n",
       "      <td>Orgelblut</td>\n",
       "      <td>1</td>\n",
       "      <td>Dolores</td>\n",
       "      <td>Bohren &amp; Der Club Of Gore</td>\n",
       "      <td>2008</td>\n",
       "      <td>0.257</td>\n",
       "      <td>0.0031</td>\n",
       "      <td>9.0</td>\n",
       "      <td>-21.904</td>\n",
       "      <td>0.0</td>\n",
       "      <td>0.0446</td>\n",
       "      <td>0.819</td>\n",
       "      <td>0.890</td>\n",
       "      <td>0.117</td>\n",
       "      <td>0.0659</td>\n",
       "      <td>129.709</td>\n",
       "    </tr>\n",
       "    <tr>\n",
       "      <th>3</th>\n",
       "      <td>a0846981ab7c3d06cf1d966e7109774e306eb61a</td>\n",
       "      <td>SOAAAGQ12A8C1420C8</td>\n",
       "      <td>Orgelblut</td>\n",
       "      <td>1</td>\n",
       "      <td>Dolores</td>\n",
       "      <td>Bohren &amp; Der Club Of Gore</td>\n",
       "      <td>2008</td>\n",
       "      <td>0.257</td>\n",
       "      <td>0.0031</td>\n",
       "      <td>9.0</td>\n",
       "      <td>-21.904</td>\n",
       "      <td>0.0</td>\n",
       "      <td>0.0446</td>\n",
       "      <td>0.819</td>\n",
       "      <td>0.890</td>\n",
       "      <td>0.117</td>\n",
       "      <td>0.0659</td>\n",
       "      <td>129.709</td>\n",
       "    </tr>\n",
       "    <tr>\n",
       "      <th>4</th>\n",
       "      <td>6e8d4e7d986e077d334da41638e63b9030710141</td>\n",
       "      <td>SOAAAGQ12A8C1420C8</td>\n",
       "      <td>Orgelblut</td>\n",
       "      <td>1</td>\n",
       "      <td>Dolores</td>\n",
       "      <td>Bohren &amp; Der Club Of Gore</td>\n",
       "      <td>2008</td>\n",
       "      <td>0.257</td>\n",
       "      <td>0.0031</td>\n",
       "      <td>9.0</td>\n",
       "      <td>-21.904</td>\n",
       "      <td>0.0</td>\n",
       "      <td>0.0446</td>\n",
       "      <td>0.819</td>\n",
       "      <td>0.890</td>\n",
       "      <td>0.117</td>\n",
       "      <td>0.0659</td>\n",
       "      <td>129.709</td>\n",
       "    </tr>\n",
       "  </tbody>\n",
       "</table>\n",
       "</div>"
      ],
      "text/plain": [
       "                                       user                song      title  \\\n",
       "0  b493eda768d25cfb48dec2567b0826cdb9f6eef4  SOCBSZW12AB01891C1       XRDS   \n",
       "1  d50046ceb4db11dc162649a0da27733ff5194b47  SOAAAGQ12A8C1420C8  Orgelblut   \n",
       "2  1e93ab57208a575ad87872ff3a25c1743632d0a1  SOAAAGQ12A8C1420C8  Orgelblut   \n",
       "3  a0846981ab7c3d06cf1d966e7109774e306eb61a  SOAAAGQ12A8C1420C8  Orgelblut   \n",
       "4  6e8d4e7d986e077d334da41638e63b9030710141  SOAAAGQ12A8C1420C8  Orgelblut   \n",
       "\n",
       "   play_count       release                artist_name  year  danceability  \\\n",
       "0         256  Ritual Noise                   Covenant     0         0.663   \n",
       "1           1       Dolores  Bohren & Der Club Of Gore  2008         0.257   \n",
       "2           1       Dolores  Bohren & Der Club Of Gore  2008         0.257   \n",
       "3           1       Dolores  Bohren & Der Club Of Gore  2008         0.257   \n",
       "4           1       Dolores  Bohren & Der Club Of Gore  2008         0.257   \n",
       "\n",
       "   energy  key  loudness  mode  speechiness  acousticness  instrumentalness  \\\n",
       "0  0.7950  5.0   -11.129   0.0       0.0448         0.044             0.443   \n",
       "1  0.0031  9.0   -21.904   0.0       0.0446         0.819             0.890   \n",
       "2  0.0031  9.0   -21.904   0.0       0.0446         0.819             0.890   \n",
       "3  0.0031  9.0   -21.904   0.0       0.0446         0.819             0.890   \n",
       "4  0.0031  9.0   -21.904   0.0       0.0446         0.819             0.890   \n",
       "\n",
       "   liveness  valence    tempo  \n",
       "0     0.239   0.4970  128.017  \n",
       "1     0.117   0.0659  129.709  \n",
       "2     0.117   0.0659  129.709  \n",
       "3     0.117   0.0659  129.709  \n",
       "4     0.117   0.0659  129.709  "
      ]
     },
     "execution_count": 12,
     "metadata": {},
     "output_type": "execute_result"
    }
   ],
   "source": [
    "df.head()"
   ]
  },
  {
   "cell_type": "code",
   "execution_count": 13,
   "metadata": {},
   "outputs": [
    {
     "data": {
      "text/plain": [
       "user                 object\n",
       "song                 object\n",
       "title                object\n",
       "play_count            int64\n",
       "release              object\n",
       "artist_name          object\n",
       "year                  int64\n",
       "danceability        float64\n",
       "energy              float64\n",
       "key                 float64\n",
       "loudness            float64\n",
       "mode                float64\n",
       "speechiness         float64\n",
       "acousticness        float64\n",
       "instrumentalness    float64\n",
       "liveness            float64\n",
       "valence             float64\n",
       "tempo               float64\n",
       "dtype: object"
      ]
     },
     "execution_count": 13,
     "metadata": {},
     "output_type": "execute_result"
    }
   ],
   "source": [
    "df.dtypes"
   ]
  },
  {
   "cell_type": "code",
   "execution_count": 14,
   "metadata": {},
   "outputs": [
    {
     "data": {
      "image/png": "[encoded data removed]",
      "text/plain": [
       "<Figure size 640x480 with 1 Axes>"
      ]
     },
     "metadata": {},
     "output_type": "display_data"
    }
   ],
   "source": [
    "df.groupby('year')['song'].count().loc[1900:].plot(kind='line')\n",
    "plt.xlabel('Year')\n",
    "plt.ylabel('Count')\n",
    "plt.title('Number of Songs by Year (1950 onwards)')\n",
    "plt.show()\n"
   ]
  },
  {
   "cell_type": "markdown",
   "metadata": {},
   "source": [
    "When plotting this initially I can see that there are some songs that have weird realease years. I am going to explot this to understand why this is happening. By using .describe() for this column, we can also see that the min value is 0, which is logically incorrect. "
   ]
  },
  {
   "cell_type": "code",
   "execution_count": 15,
   "metadata": {},
   "outputs": [
    {
     "data": {
      "text/plain": [
       "count    9000.000000\n",
       "mean     1638.828444\n",
       "std       770.227667\n",
       "min         0.000000\n",
       "25%      1986.000000\n",
       "50%      2002.000000\n",
       "75%      2007.000000\n",
       "max      2010.000000\n",
       "Name: year, dtype: float64"
      ]
     },
     "execution_count": 15,
     "metadata": {},
     "output_type": "execute_result"
    }
   ],
   "source": [
    "df['year'].describe()"
   ]
  },
  {
   "cell_type": "code",
   "execution_count": 27,
   "metadata": {},
   "outputs": [],
   "source": [
    "df[df['year'] == 0]['song'].count()\n",
    "columns_to_impute = [\n",
    "    'danceability', 'energy', 'key', 'loudness', 'mode', \n",
    "    'speechiness', 'acousticness', 'instrumentalness', \n",
    "    'liveness', 'valence', 'tempo', 'year']\n",
    "\n",
    "data_for_imputation = df[columns_to_impute]\n",
    "\n",
    "imputer = IterativeImputer(estimator=RandomForestRegressor(), missing_values=np.nan, max_iter=10, random_state=0)\n",
    "imputed_data = imputer.fit_transform(data_for_imputation)\n",
    "df[columns_to_impute] = imputed_data\n"
   ]
  },
  {
   "cell_type": "code",
   "execution_count": 28,
   "metadata": {},
   "outputs": [
    {
     "data": {
      "text/plain": [
       "count    9000.000000\n",
       "mean       35.829556\n",
       "std        18.895442\n",
       "min         0.000000\n",
       "25%        29.000000\n",
       "50%        45.000000\n",
       "75%        50.000000\n",
       "max        53.000000\n",
       "Name: year, dtype: float64"
      ]
     },
     "execution_count": 28,
     "metadata": {},
     "output_type": "execute_result"
    }
   ],
   "source": [
    "df['year'].describe()"
   ]
  },
  {
   "cell_type": "code",
   "execution_count": 18,
   "metadata": {},
   "outputs": [],
   "source": [
    "#key, year and mode are categorical variables\n",
    "df['key'] = df['key'].astype('category')\n",
    "df['mode'] = df['mode'].astype('category')\n",
    "df['year'] = df['year'].astype('category')\n",
    "df['play_count'] = df['play_count'].astype('int64')"
   ]
  },
  {
   "cell_type": "code",
   "execution_count": 19,
   "metadata": {},
   "outputs": [],
   "source": [
    "from sklearn.preprocessing import MinMaxScaler\n",
    "import numpy as np\n",
    "\n",
    "# Assuming df is your DataFrame\n",
    "\n",
    "# Initialize MinMaxScaler (or another scaler of your choice)\n",
    "# Example: Scale between 0 and 1\n",
    "scaler = MinMaxScaler()\n",
    "\n",
    "# Select numerical columns\n",
    "numeric_columns = df.select_dtypes(include=np.number).columns\n",
    "\n",
    "# Iterate over the numerical columns to apply transformations\n",
    "for column in numeric_columns:\n",
    "    if column != 'play_count':\n",
    "        if df[column].min() > 0:\n",
    "            # Apply log transformation for strictly positive columns\n",
    "            df[column] = np.log1p(df[column])\n",
    "        else:\n",
    "            # For columns with negative values, apply scaling\n",
    "            # Reshape data for scaler\n",
    "            scaled_data = df[column].values.reshape(-1, 1)\n",
    "            df[column] = scaler.fit_transform(scaled_data).flatten()\n",
    "\n",
    "# Note: The transformation for 'loudness' or any column with negative values is done through scaling here\n",
    "# Adjust this approach based on your analysis needs and the specific characteristics of your data\n"
   ]
  },
  {
   "cell_type": "code",
   "execution_count": 20,
   "metadata": {},
   "outputs": [
    {
     "data": {
      "text/html": [
       "<div>\n",
       "<style scoped>\n",
       "    .dataframe tbody tr th:only-of-type {\n",
       "        vertical-align: middle;\n",
       "    }\n",
       "\n",
       "    .dataframe tbody tr th {\n",
       "        vertical-align: top;\n",
       "    }\n",
       "\n",
       "    .dataframe thead th {\n",
       "        text-align: right;\n",
       "    }\n",
       "</style>\n",
       "<table border=\"1\" class=\"dataframe\">\n",
       "  <thead>\n",
       "    <tr style=\"text-align: right;\">\n",
       "      <th></th>\n",
       "      <th>user</th>\n",
       "      <th>song</th>\n",
       "      <th>title</th>\n",
       "      <th>play_count</th>\n",
       "      <th>release</th>\n",
       "      <th>artist_name</th>\n",
       "      <th>year</th>\n",
       "      <th>danceability</th>\n",
       "      <th>energy</th>\n",
       "      <th>key</th>\n",
       "      <th>loudness</th>\n",
       "      <th>mode</th>\n",
       "      <th>speechiness</th>\n",
       "      <th>acousticness</th>\n",
       "      <th>instrumentalness</th>\n",
       "      <th>liveness</th>\n",
       "      <th>valence</th>\n",
       "      <th>tempo</th>\n",
       "    </tr>\n",
       "  </thead>\n",
       "  <tbody>\n",
       "    <tr>\n",
       "      <th>0</th>\n",
       "      <td>b493eda768d25cfb48dec2567b0826cdb9f6eef4</td>\n",
       "      <td>SOCBSZW12AB01891C1</td>\n",
       "      <td>XRDS</td>\n",
       "      <td>256</td>\n",
       "      <td>Ritual Noise</td>\n",
       "      <td>Covenant</td>\n",
       "      <td>0.0</td>\n",
       "      <td>0.508623</td>\n",
       "      <td>0.585005</td>\n",
       "      <td>5.0</td>\n",
       "      <td>0.585438</td>\n",
       "      <td>0.0</td>\n",
       "      <td>0.043825</td>\n",
       "      <td>0.043059</td>\n",
       "      <td>0.448381</td>\n",
       "      <td>0.214305</td>\n",
       "      <td>0.403463</td>\n",
       "      <td>4.859944</td>\n",
       "    </tr>\n",
       "    <tr>\n",
       "      <th>1</th>\n",
       "      <td>d50046ceb4db11dc162649a0da27733ff5194b47</td>\n",
       "      <td>SOAAAGQ12A8C1420C8</td>\n",
       "      <td>Orgelblut</td>\n",
       "      <td>1</td>\n",
       "      <td>Dolores</td>\n",
       "      <td>Bohren &amp; Der Club Of Gore</td>\n",
       "      <td>2008.0</td>\n",
       "      <td>0.228728</td>\n",
       "      <td>0.003095</td>\n",
       "      <td>9.0</td>\n",
       "      <td>0.247420</td>\n",
       "      <td>0.0</td>\n",
       "      <td>0.043634</td>\n",
       "      <td>0.598287</td>\n",
       "      <td>0.900810</td>\n",
       "      <td>0.110647</td>\n",
       "      <td>0.063820</td>\n",
       "      <td>4.872973</td>\n",
       "    </tr>\n",
       "    <tr>\n",
       "      <th>2</th>\n",
       "      <td>1e93ab57208a575ad87872ff3a25c1743632d0a1</td>\n",
       "      <td>SOAAAGQ12A8C1420C8</td>\n",
       "      <td>Orgelblut</td>\n",
       "      <td>1</td>\n",
       "      <td>Dolores</td>\n",
       "      <td>Bohren &amp; Der Club Of Gore</td>\n",
       "      <td>2008.0</td>\n",
       "      <td>0.228728</td>\n",
       "      <td>0.003095</td>\n",
       "      <td>9.0</td>\n",
       "      <td>0.247420</td>\n",
       "      <td>0.0</td>\n",
       "      <td>0.043634</td>\n",
       "      <td>0.598287</td>\n",
       "      <td>0.900810</td>\n",
       "      <td>0.110647</td>\n",
       "      <td>0.063820</td>\n",
       "      <td>4.872973</td>\n",
       "    </tr>\n",
       "    <tr>\n",
       "      <th>3</th>\n",
       "      <td>a0846981ab7c3d06cf1d966e7109774e306eb61a</td>\n",
       "      <td>SOAAAGQ12A8C1420C8</td>\n",
       "      <td>Orgelblut</td>\n",
       "      <td>1</td>\n",
       "      <td>Dolores</td>\n",
       "      <td>Bohren &amp; Der Club Of Gore</td>\n",
       "      <td>2008.0</td>\n",
       "      <td>0.228728</td>\n",
       "      <td>0.003095</td>\n",
       "      <td>9.0</td>\n",
       "      <td>0.247420</td>\n",
       "      <td>0.0</td>\n",
       "      <td>0.043634</td>\n",
       "      <td>0.598287</td>\n",
       "      <td>0.900810</td>\n",
       "      <td>0.110647</td>\n",
       "      <td>0.063820</td>\n",
       "      <td>4.872973</td>\n",
       "    </tr>\n",
       "    <tr>\n",
       "      <th>4</th>\n",
       "      <td>6e8d4e7d986e077d334da41638e63b9030710141</td>\n",
       "      <td>SOAAAGQ12A8C1420C8</td>\n",
       "      <td>Orgelblut</td>\n",
       "      <td>1</td>\n",
       "      <td>Dolores</td>\n",
       "      <td>Bohren &amp; Der Club Of Gore</td>\n",
       "      <td>2008.0</td>\n",
       "      <td>0.228728</td>\n",
       "      <td>0.003095</td>\n",
       "      <td>9.0</td>\n",
       "      <td>0.247420</td>\n",
       "      <td>0.0</td>\n",
       "      <td>0.043634</td>\n",
       "      <td>0.598287</td>\n",
       "      <td>0.900810</td>\n",
       "      <td>0.110647</td>\n",
       "      <td>0.063820</td>\n",
       "      <td>4.872973</td>\n",
       "    </tr>\n",
       "  </tbody>\n",
       "</table>\n",
       "</div>"
      ],
      "text/plain": [
       "                                       user                song      title  \\\n",
       "0  b493eda768d25cfb48dec2567b0826cdb9f6eef4  SOCBSZW12AB01891C1       XRDS   \n",
       "1  d50046ceb4db11dc162649a0da27733ff5194b47  SOAAAGQ12A8C1420C8  Orgelblut   \n",
       "2  1e93ab57208a575ad87872ff3a25c1743632d0a1  SOAAAGQ12A8C1420C8  Orgelblut   \n",
       "3  a0846981ab7c3d06cf1d966e7109774e306eb61a  SOAAAGQ12A8C1420C8  Orgelblut   \n",
       "4  6e8d4e7d986e077d334da41638e63b9030710141  SOAAAGQ12A8C1420C8  Orgelblut   \n",
       "\n",
       "   play_count       release                artist_name    year  danceability  \\\n",
       "0         256  Ritual Noise                   Covenant     0.0      0.508623   \n",
       "1           1       Dolores  Bohren & Der Club Of Gore  2008.0      0.228728   \n",
       "2           1       Dolores  Bohren & Der Club Of Gore  2008.0      0.228728   \n",
       "3           1       Dolores  Bohren & Der Club Of Gore  2008.0      0.228728   \n",
       "4           1       Dolores  Bohren & Der Club Of Gore  2008.0      0.228728   \n",
       "\n",
       "     energy  key  loudness mode  speechiness  acousticness  instrumentalness  \\\n",
       "0  0.585005  5.0  0.585438  0.0     0.043825      0.043059          0.448381   \n",
       "1  0.003095  9.0  0.247420  0.0     0.043634      0.598287          0.900810   \n",
       "2  0.003095  9.0  0.247420  0.0     0.043634      0.598287          0.900810   \n",
       "3  0.003095  9.0  0.247420  0.0     0.043634      0.598287          0.900810   \n",
       "4  0.003095  9.0  0.247420  0.0     0.043634      0.598287          0.900810   \n",
       "\n",
       "   liveness   valence     tempo  \n",
       "0  0.214305  0.403463  4.859944  \n",
       "1  0.110647  0.063820  4.872973  \n",
       "2  0.110647  0.063820  4.872973  \n",
       "3  0.110647  0.063820  4.872973  \n",
       "4  0.110647  0.063820  4.872973  "
      ]
     },
     "execution_count": 20,
     "metadata": {},
     "output_type": "execute_result"
    }
   ],
   "source": [
    "df.head()"
   ]
  },
  {
   "cell_type": "code",
   "execution_count": 21,
   "metadata": {},
   "outputs": [
    {
     "data": {
      "image/png": "[encoded data removed]",
      "text/plain": [
       "<Figure size 800x600 with 1 Axes>"
      ]
     },
     "metadata": {},
     "output_type": "display_data"
    },
    {
     "data": {
      "image/png": "[encoded data removed]",
      "text/plain": [
       "<Figure size 800x600 with 1 Axes>"
      ]
     },
     "metadata": {},
     "output_type": "display_data"
    }
   ],
   "source": [
    "categorical_columns = df.select_dtypes(include=['category']).columns\n",
    "\n",
    "for column in categorical_columns:\n",
    "    if column != 'year':\n",
    "        plt.figure(figsize=(8, 6))\n",
    "        df[column].value_counts().plot(kind='bar')\n",
    "        plt.xlabel(column)\n",
    "        plt.ylabel('Count')\n",
    "        plt.title(f'Bar Plot of {column}')\n",
    "        plt.show()\n"
   ]
  },
  {
   "cell_type": "code",
   "execution_count": 22,
   "metadata": {},
   "outputs": [
    {
     "data": {
      "text/plain": [
       "<Axes: xlabel='title'>"
      ]
     },
     "execution_count": 22,
     "metadata": {},
     "output_type": "execute_result"
    },
    {
     "data": {
      "image/png": "[encoded data removed]",
      "text/plain": [
       "<Figure size 640x480 with 1 Axes>"
      ]
     },
     "metadata": {},
     "output_type": "display_data"
    }
   ],
   "source": [
    "df.groupby('title')['play_count'].sum().sort_values(ascending=False).head(10).plot(kind='bar')"
   ]
  },
  {
   "cell_type": "code",
   "execution_count": 23,
   "metadata": {},
   "outputs": [
    {
     "data": {
      "text/plain": [
       "1.0405891612322915"
      ]
     },
     "execution_count": 23,
     "metadata": {},
     "output_type": "execute_result"
    }
   ],
   "source": [
    "df.groupby('user')['play_count'].sum().mean()"
   ]
  },
  {
   "cell_type": "markdown",
   "metadata": {},
   "source": [
    "## Encoding"
   ]
  },
  {
   "cell_type": "code",
   "execution_count": 24,
   "metadata": {},
   "outputs": [
    {
     "data": {
      "text/plain": [
       "user                  object\n",
       "song                  object\n",
       "title                 object\n",
       "play_count             int64\n",
       "release               object\n",
       "artist_name           object\n",
       "year                category\n",
       "danceability         float64\n",
       "energy               float64\n",
       "key                 category\n",
       "loudness             float64\n",
       "mode                category\n",
       "speechiness          float64\n",
       "acousticness         float64\n",
       "instrumentalness     float64\n",
       "liveness             float64\n",
       "valence              float64\n",
       "tempo                float64\n",
       "dtype: object"
      ]
     },
     "execution_count": 24,
     "metadata": {},
     "output_type": "execute_result"
    }
   ],
   "source": [
    "df.dtypes"
   ]
  },
  {
   "cell_type": "code",
   "execution_count": 25,
   "metadata": {},
   "outputs": [],
   "source": [
    "from sklearn.preprocessing import LabelEncoder\n",
    "import pandas as pd\n",
    "\n",
    "# Your DataFrame is named df\n",
    "\n",
    "# Select columns that are of type object or category\n",
    "columns_to_encode = df.select_dtypes(include=['object', 'category']).columns\n",
    "\n",
    "# Initialize a LabelEncoder\n",
    "le = LabelEncoder()\n",
    "\n",
    "# Loop through each column to apply LabelEncoder\n",
    "for column in columns_to_encode:\n",
    "    if df[column].dtype == 'category':\n",
    "        # Add 'Missing' to categories if it's not already there\n",
    "        if 'Missing' not in df[column].cat.categories:\n",
    "            df[column] = df[column].cat.add_categories(['Missing'])\n",
    "    # Now safely fill missing values with 'Missing'\n",
    "    df[column] = df[column].fillna('Missing')\n",
    "    # Apply Label Encoding\n",
    "    df[column] = le.fit_transform(df[column])\n"
   ]
  },
  {
   "cell_type": "code",
   "execution_count": 26,
   "metadata": {},
   "outputs": [
    {
     "data": {
      "text/html": [
       "<div>\n",
       "<style scoped>\n",
       "    .dataframe tbody tr th:only-of-type {\n",
       "        vertical-align: middle;\n",
       "    }\n",
       "\n",
       "    .dataframe tbody tr th {\n",
       "        vertical-align: top;\n",
       "    }\n",
       "\n",
       "    .dataframe thead th {\n",
       "        text-align: right;\n",
       "    }\n",
       "</style>\n",
       "<table border=\"1\" class=\"dataframe\">\n",
       "  <thead>\n",
       "    <tr style=\"text-align: right;\">\n",
       "      <th></th>\n",
       "      <th>user</th>\n",
       "      <th>song</th>\n",
       "      <th>title</th>\n",
       "      <th>play_count</th>\n",
       "      <th>release</th>\n",
       "      <th>artist_name</th>\n",
       "      <th>year</th>\n",
       "      <th>danceability</th>\n",
       "      <th>energy</th>\n",
       "      <th>key</th>\n",
       "      <th>loudness</th>\n",
       "      <th>mode</th>\n",
       "      <th>speechiness</th>\n",
       "      <th>acousticness</th>\n",
       "      <th>instrumentalness</th>\n",
       "      <th>liveness</th>\n",
       "      <th>valence</th>\n",
       "      <th>tempo</th>\n",
       "    </tr>\n",
       "  </thead>\n",
       "  <tbody>\n",
       "    <tr>\n",
       "      <th>0</th>\n",
       "      <td>6228</td>\n",
       "      <td>2563</td>\n",
       "      <td>2483</td>\n",
       "      <td>256</td>\n",
       "      <td>1606</td>\n",
       "      <td>441</td>\n",
       "      <td>0</td>\n",
       "      <td>0.508623</td>\n",
       "      <td>0.585005</td>\n",
       "      <td>6</td>\n",
       "      <td>0.585438</td>\n",
       "      <td>0</td>\n",
       "      <td>0.043825</td>\n",
       "      <td>0.043059</td>\n",
       "      <td>0.448381</td>\n",
       "      <td>0.214305</td>\n",
       "      <td>0.403463</td>\n",
       "      <td>4.859944</td>\n",
       "    </tr>\n",
       "    <tr>\n",
       "      <th>1</th>\n",
       "      <td>7366</td>\n",
       "      <td>0</td>\n",
       "      <td>1569</td>\n",
       "      <td>1</td>\n",
       "      <td>554</td>\n",
       "      <td>259</td>\n",
       "      <td>51</td>\n",
       "      <td>0.228728</td>\n",
       "      <td>0.003095</td>\n",
       "      <td>10</td>\n",
       "      <td>0.247420</td>\n",
       "      <td>0</td>\n",
       "      <td>0.043634</td>\n",
       "      <td>0.598287</td>\n",
       "      <td>0.900810</td>\n",
       "      <td>0.110647</td>\n",
       "      <td>0.063820</td>\n",
       "      <td>4.872973</td>\n",
       "    </tr>\n",
       "    <tr>\n",
       "      <th>2</th>\n",
       "      <td>1019</td>\n",
       "      <td>0</td>\n",
       "      <td>1569</td>\n",
       "      <td>1</td>\n",
       "      <td>554</td>\n",
       "      <td>259</td>\n",
       "      <td>51</td>\n",
       "      <td>0.228728</td>\n",
       "      <td>0.003095</td>\n",
       "      <td>10</td>\n",
       "      <td>0.247420</td>\n",
       "      <td>0</td>\n",
       "      <td>0.043634</td>\n",
       "      <td>0.598287</td>\n",
       "      <td>0.900810</td>\n",
       "      <td>0.110647</td>\n",
       "      <td>0.063820</td>\n",
       "      <td>4.872973</td>\n",
       "    </tr>\n",
       "    <tr>\n",
       "      <th>3</th>\n",
       "      <td>5496</td>\n",
       "      <td>0</td>\n",
       "      <td>1569</td>\n",
       "      <td>1</td>\n",
       "      <td>554</td>\n",
       "      <td>259</td>\n",
       "      <td>51</td>\n",
       "      <td>0.228728</td>\n",
       "      <td>0.003095</td>\n",
       "      <td>10</td>\n",
       "      <td>0.247420</td>\n",
       "      <td>0</td>\n",
       "      <td>0.043634</td>\n",
       "      <td>0.598287</td>\n",
       "      <td>0.900810</td>\n",
       "      <td>0.110647</td>\n",
       "      <td>0.063820</td>\n",
       "      <td>4.872973</td>\n",
       "    </tr>\n",
       "    <tr>\n",
       "      <th>4</th>\n",
       "      <td>3821</td>\n",
       "      <td>0</td>\n",
       "      <td>1569</td>\n",
       "      <td>1</td>\n",
       "      <td>554</td>\n",
       "      <td>259</td>\n",
       "      <td>51</td>\n",
       "      <td>0.228728</td>\n",
       "      <td>0.003095</td>\n",
       "      <td>10</td>\n",
       "      <td>0.247420</td>\n",
       "      <td>0</td>\n",
       "      <td>0.043634</td>\n",
       "      <td>0.598287</td>\n",
       "      <td>0.900810</td>\n",
       "      <td>0.110647</td>\n",
       "      <td>0.063820</td>\n",
       "      <td>4.872973</td>\n",
       "    </tr>\n",
       "  </tbody>\n",
       "</table>\n",
       "</div>"
      ],
      "text/plain": [
       "   user  song  title  play_count  release  artist_name  year  danceability  \\\n",
       "0  6228  2563   2483         256     1606          441     0      0.508623   \n",
       "1  7366     0   1569           1      554          259    51      0.228728   \n",
       "2  1019     0   1569           1      554          259    51      0.228728   \n",
       "3  5496     0   1569           1      554          259    51      0.228728   \n",
       "4  3821     0   1569           1      554          259    51      0.228728   \n",
       "\n",
       "     energy  key  loudness  mode  speechiness  acousticness  instrumentalness  \\\n",
       "0  0.585005    6  0.585438     0     0.043825      0.043059          0.448381   \n",
       "1  0.003095   10  0.247420     0     0.043634      0.598287          0.900810   \n",
       "2  0.003095   10  0.247420     0     0.043634      0.598287          0.900810   \n",
       "3  0.003095   10  0.247420     0     0.043634      0.598287          0.900810   \n",
       "4  0.003095   10  0.247420     0     0.043634      0.598287          0.900810   \n",
       "\n",
       "   liveness   valence     tempo  \n",
       "0  0.214305  0.403463  4.859944  \n",
       "1  0.110647  0.063820  4.872973  \n",
       "2  0.110647  0.063820  4.872973  \n",
       "3  0.110647  0.063820  4.872973  \n",
       "4  0.110647  0.063820  4.872973  "
      ]
     },
     "execution_count": 26,
     "metadata": {},
     "output_type": "execute_result"
    }
   ],
   "source": [
    "df.head()"
   ]
  },
  {
   "cell_type": "code",
   "execution_count": 29,
   "metadata": {},
   "outputs": [],
   "source": [
    "df.to_csv('../dataset_ready.csv')"
   ]
  },
  {
   "cell_type": "code",
   "execution_count": null,
   "metadata": {},
   "outputs": [],
   "source": []
  }
 ],
 "metadata": {
  "kernelspec": {
   "display_name": "Python 3",
   "language": "python",
   "name": "python3"
  },
  "language_info": {
   "codemirror_mode": {
    "name": "ipython",
    "version": 3
   },
   "file_extension": ".py",
   "mimetype": "text/x-python",
   "name": "python",
   "nbconvert_exporter": "python",
   "pygments_lexer": "ipython3",
   "version": "3.12.1"
  }
 },
 "nbformat": 4,
 "nbformat_minor": 2
}
