{
 "cells": [
  {
   "cell_type": "markdown",
   "metadata": {},
   "source": [
    "# EDA"
   ]
  },
  {
   "cell_type": "markdown",
   "metadata": {},
   "source": [
    "#### Imports"
   ]
  },
  {
   "cell_type": "code",
   "execution_count": 53,
   "metadata": {},
   "outputs": [],
   "source": [
    "import pandas as pd\n",
    "import numpy as np\n",
    "import matplotlib.pyplot as plt\n",
    "import seaborn as sns\n",
    "from sklearn.preprocessing import LabelEncoder\n",
    "from sklearn.experimental import enable_iterative_imputer\n",
    "from sklearn.impute import IterativeImputer\n",
    "from sklearn.ensemble import RandomForestRegressor"
   ]
  },
  {
   "cell_type": "markdown",
   "metadata": {},
   "source": [
    "#### Load the data"
   ]
  },
  {
   "cell_type": "code",
   "execution_count": 54,
   "metadata": {},
   "outputs": [],
   "source": [
    "df = pd.read_csv('/Users/riwanahas/music-recommendation-1/spotify_reco/popular_songs_metadata.csv')"
   ]
  },
  {
   "cell_type": "markdown",
   "metadata": {},
   "source": [
    "#### Looking at the Data"
   ]
  },
  {
   "cell_type": "code",
   "execution_count": 55,
   "metadata": {},
   "outputs": [
    {
     "data": {
      "text/plain": [
       "(10000, 7)"
      ]
     },
     "execution_count": 55,
     "metadata": {},
     "output_type": "execute_result"
    }
   ],
   "source": [
    "df.shape"
   ]
  },
  {
   "cell_type": "code",
   "execution_count": 56,
   "metadata": {},
   "outputs": [
    {
     "data": {
      "text/html": [
       "<div>\n",
       "<style scoped>\n",
       "    .dataframe tbody tr th:only-of-type {\n",
       "        vertical-align: middle;\n",
       "    }\n",
       "\n",
       "    .dataframe tbody tr th {\n",
       "        vertical-align: top;\n",
       "    }\n",
       "\n",
       "    .dataframe thead th {\n",
       "        text-align: right;\n",
       "    }\n",
       "</style>\n",
       "<table border=\"1\" class=\"dataframe\">\n",
       "  <thead>\n",
       "    <tr style=\"text-align: right;\">\n",
       "      <th></th>\n",
       "      <th>user</th>\n",
       "      <th>song</th>\n",
       "      <th>title</th>\n",
       "      <th>play_count</th>\n",
       "      <th>release</th>\n",
       "      <th>artist_name</th>\n",
       "      <th>year</th>\n",
       "    </tr>\n",
       "  </thead>\n",
       "  <tbody>\n",
       "    <tr>\n",
       "      <th>0</th>\n",
       "      <td>b493eda768d25cfb48dec2567b0826cdb9f6eef4</td>\n",
       "      <td>SOCBSZW12AB01891C1</td>\n",
       "      <td>XRDS</td>\n",
       "      <td>256</td>\n",
       "      <td>Ritual Noise</td>\n",
       "      <td>Covenant</td>\n",
       "      <td>0</td>\n",
       "    </tr>\n",
       "    <tr>\n",
       "      <th>1</th>\n",
       "      <td>d50046ceb4db11dc162649a0da27733ff5194b47</td>\n",
       "      <td>SOAAAGQ12A8C1420C8</td>\n",
       "      <td>Orgelblut</td>\n",
       "      <td>1</td>\n",
       "      <td>Dolores</td>\n",
       "      <td>Bohren &amp; Der Club Of Gore</td>\n",
       "      <td>2008</td>\n",
       "    </tr>\n",
       "    <tr>\n",
       "      <th>2</th>\n",
       "      <td>1e93ab57208a575ad87872ff3a25c1743632d0a1</td>\n",
       "      <td>SOAAAGQ12A8C1420C8</td>\n",
       "      <td>Orgelblut</td>\n",
       "      <td>1</td>\n",
       "      <td>Dolores</td>\n",
       "      <td>Bohren &amp; Der Club Of Gore</td>\n",
       "      <td>2008</td>\n",
       "    </tr>\n",
       "    <tr>\n",
       "      <th>3</th>\n",
       "      <td>a0846981ab7c3d06cf1d966e7109774e306eb61a</td>\n",
       "      <td>SOAAAGQ12A8C1420C8</td>\n",
       "      <td>Orgelblut</td>\n",
       "      <td>1</td>\n",
       "      <td>Dolores</td>\n",
       "      <td>Bohren &amp; Der Club Of Gore</td>\n",
       "      <td>2008</td>\n",
       "    </tr>\n",
       "    <tr>\n",
       "      <th>4</th>\n",
       "      <td>6e8d4e7d986e077d334da41638e63b9030710141</td>\n",
       "      <td>SOAAAGQ12A8C1420C8</td>\n",
       "      <td>Orgelblut</td>\n",
       "      <td>1</td>\n",
       "      <td>Dolores</td>\n",
       "      <td>Bohren &amp; Der Club Of Gore</td>\n",
       "      <td>2008</td>\n",
       "    </tr>\n",
       "  </tbody>\n",
       "</table>\n",
       "</div>"
      ],
      "text/plain": [
       "                                       user                song      title  \\\n",
       "0  b493eda768d25cfb48dec2567b0826cdb9f6eef4  SOCBSZW12AB01891C1       XRDS   \n",
       "1  d50046ceb4db11dc162649a0da27733ff5194b47  SOAAAGQ12A8C1420C8  Orgelblut   \n",
       "2  1e93ab57208a575ad87872ff3a25c1743632d0a1  SOAAAGQ12A8C1420C8  Orgelblut   \n",
       "3  a0846981ab7c3d06cf1d966e7109774e306eb61a  SOAAAGQ12A8C1420C8  Orgelblut   \n",
       "4  6e8d4e7d986e077d334da41638e63b9030710141  SOAAAGQ12A8C1420C8  Orgelblut   \n",
       "\n",
       "   play_count       release                artist_name  year  \n",
       "0         256  Ritual Noise                   Covenant     0  \n",
       "1           1       Dolores  Bohren & Der Club Of Gore  2008  \n",
       "2           1       Dolores  Bohren & Der Club Of Gore  2008  \n",
       "3           1       Dolores  Bohren & Der Club Of Gore  2008  \n",
       "4           1       Dolores  Bohren & Der Club Of Gore  2008  "
      ]
     },
     "execution_count": 56,
     "metadata": {},
     "output_type": "execute_result"
    }
   ],
   "source": [
    "df.head()"
   ]
  },
  {
   "cell_type": "code",
   "execution_count": 57,
   "metadata": {},
   "outputs": [
    {
     "data": {
      "text/html": [
       "<div>\n",
       "<style scoped>\n",
       "    .dataframe tbody tr th:only-of-type {\n",
       "        vertical-align: middle;\n",
       "    }\n",
       "\n",
       "    .dataframe tbody tr th {\n",
       "        vertical-align: top;\n",
       "    }\n",
       "\n",
       "    .dataframe thead th {\n",
       "        text-align: right;\n",
       "    }\n",
       "</style>\n",
       "<table border=\"1\" class=\"dataframe\">\n",
       "  <thead>\n",
       "    <tr style=\"text-align: right;\">\n",
       "      <th></th>\n",
       "      <th>play_count</th>\n",
       "      <th>year</th>\n",
       "    </tr>\n",
       "  </thead>\n",
       "  <tbody>\n",
       "    <tr>\n",
       "      <th>count</th>\n",
       "      <td>10000.0000</td>\n",
       "      <td>10000.000000</td>\n",
       "    </tr>\n",
       "    <tr>\n",
       "      <th>mean</th>\n",
       "      <td>1.0255</td>\n",
       "      <td>1611.641400</td>\n",
       "    </tr>\n",
       "    <tr>\n",
       "      <th>std</th>\n",
       "      <td>2.5500</td>\n",
       "      <td>791.778529</td>\n",
       "    </tr>\n",
       "    <tr>\n",
       "      <th>min</th>\n",
       "      <td>1.0000</td>\n",
       "      <td>0.000000</td>\n",
       "    </tr>\n",
       "    <tr>\n",
       "      <th>25%</th>\n",
       "      <td>1.0000</td>\n",
       "      <td>1982.000000</td>\n",
       "    </tr>\n",
       "    <tr>\n",
       "      <th>50%</th>\n",
       "      <td>1.0000</td>\n",
       "      <td>2001.000000</td>\n",
       "    </tr>\n",
       "    <tr>\n",
       "      <th>75%</th>\n",
       "      <td>1.0000</td>\n",
       "      <td>2006.000000</td>\n",
       "    </tr>\n",
       "    <tr>\n",
       "      <th>max</th>\n",
       "      <td>256.0000</td>\n",
       "      <td>2010.000000</td>\n",
       "    </tr>\n",
       "  </tbody>\n",
       "</table>\n",
       "</div>"
      ],
      "text/plain": [
       "       play_count          year\n",
       "count  10000.0000  10000.000000\n",
       "mean       1.0255   1611.641400\n",
       "std        2.5500    791.778529\n",
       "min        1.0000      0.000000\n",
       "25%        1.0000   1982.000000\n",
       "50%        1.0000   2001.000000\n",
       "75%        1.0000   2006.000000\n",
       "max      256.0000   2010.000000"
      ]
     },
     "execution_count": 57,
     "metadata": {},
     "output_type": "execute_result"
    }
   ],
   "source": [
    "df.describe()"
   ]
  },
  {
   "cell_type": "code",
   "execution_count": 58,
   "metadata": {},
   "outputs": [
    {
     "name": "stdout",
     "output_type": "stream",
     "text": [
      "<class 'pandas.core.frame.DataFrame'>\n",
      "RangeIndex: 10000 entries, 0 to 9999\n",
      "Data columns (total 7 columns):\n",
      " #   Column       Non-Null Count  Dtype \n",
      "---  ------       --------------  ----- \n",
      " 0   user         10000 non-null  object\n",
      " 1   song         10000 non-null  object\n",
      " 2   title        10000 non-null  object\n",
      " 3   play_count   10000 non-null  int64 \n",
      " 4   release      10000 non-null  object\n",
      " 5   artist_name  10000 non-null  object\n",
      " 6   year         10000 non-null  int64 \n",
      "dtypes: int64(2), object(5)\n",
      "memory usage: 547.0+ KB\n"
     ]
    }
   ],
   "source": [
    "df.info()"
   ]
  },
  {
   "cell_type": "code",
   "execution_count": 59,
   "metadata": {},
   "outputs": [
    {
     "data": {
      "text/plain": [
       "user           0\n",
       "song           0\n",
       "title          0\n",
       "play_count     0\n",
       "release        0\n",
       "artist_name    0\n",
       "year           0\n",
       "dtype: int64"
      ]
     },
     "execution_count": 59,
     "metadata": {},
     "output_type": "execute_result"
    }
   ],
   "source": [
    "df.isnull().sum()"
   ]
  },
  {
   "cell_type": "markdown",
   "metadata": {},
   "source": [
    "#### Graphing the numerical data"
   ]
  },
  {
   "cell_type": "code",
   "execution_count": 61,
   "metadata": {},
   "outputs": [
    {
     "data": {
      "image/png": "[encoded data removed]",
      "text/plain": [
       "<Figure size 1000x800 with 2 Axes>"
      ]
     },
     "metadata": {},
     "output_type": "display_data"
    }
   ],
   "source": [
    "# Plot histograms for all numerical columns\n",
    "df.hist(figsize=(10, 8), bins=20)\n",
    "plt.tight_layout()\n",
    "plt.show()"
   ]
  },
  {
   "cell_type": "markdown",
   "metadata": {},
   "source": [
    "#### Checking for zero values"
   ]
  },
  {
   "cell_type": "code",
   "execution_count": 62,
   "metadata": {},
   "outputs": [
    {
     "data": {
      "text/plain": [
       "user              0\n",
       "song              0\n",
       "title             0\n",
       "play_count        0\n",
       "release           0\n",
       "artist_name       0\n",
       "year           1944\n",
       "dtype: int64"
      ]
     },
     "execution_count": 62,
     "metadata": {},
     "output_type": "execute_result"
    }
   ],
   "source": [
    "# Checking for the presence of zero values in each column\n",
    "zero_values_count = (df == 0).sum()\n",
    "zero_values_count"
   ]
  },
  {
   "cell_type": "markdown",
   "metadata": {},
   "source": [
    "#### Inputing Values"
   ]
  },
  {
   "cell_type": "code",
   "execution_count": 63,
   "metadata": {},
   "outputs": [
    {
     "data": {
      "text/plain": [
       "0"
      ]
     },
     "execution_count": 63,
     "metadata": {},
     "output_type": "execute_result"
    }
   ],
   "source": [
    "df['year'].replace(0, np.nan, inplace=True)\n",
    "\n",
    "# Initialize the IterativeImputer with a RandomForestRegressor estimator\n",
    "imputer = IterativeImputer(estimator=RandomForestRegressor(), max_iter=10, random_state=0)\n",
    "\n",
    "# We'll only fit the imputer on the 'year' column as the other zeros are encoded categories\n",
    "year_imputed = imputer.fit_transform(df[['year']])\n",
    "\n",
    "# Fill the imputed values back into the DataFrame\n",
    "df['year'] = year_imputed\n",
    "df['year'] = df['year'].round().astype(int)\n",
    "\n",
    "# Check if the imputation is done\n",
    "df['year'].isnull().sum()\n"
   ]
  },
  {
   "cell_type": "markdown",
   "metadata": {},
   "source": [
    "#### Outlires"
   ]
  },
  {
   "cell_type": "code",
   "execution_count": 64,
   "metadata": {},
   "outputs": [
    {
     "data": {
      "text/plain": [
       "{'play_count_outliers': 1, 'year_outliers': 1347}"
      ]
     },
     "execution_count": 64,
     "metadata": {},
     "output_type": "execute_result"
    }
   ],
   "source": [
    "# Define a function to detect outliers using the IQR method\n",
    "def detect_outliers_iqr(data, column_name):\n",
    "    Q1 = data[column_name].quantile(0.25)\n",
    "    Q3 = data[column_name].quantile(0.75)\n",
    "    IQR = Q3 - Q1\n",
    "    lower_bound = Q1 - 1.5 * IQR\n",
    "    upper_bound = Q3 + 1.5 * IQR\n",
    "    \n",
    "    outliers = data[(data[column_name] < lower_bound) | (data[column_name] > upper_bound)]\n",
    "    return outliers\n",
    "\n",
    "# Detect outliers in 'play_count' and 'year'\n",
    "outliers_play_count = detect_outliers_iqr(df, 'play_count')\n",
    "outliers_year = detect_outliers_iqr(df, 'year')\n",
    "\n",
    "# Display the number of outliers found in each column\n",
    "outliers_summary = {\n",
    "    'play_count_outliers': len(outliers_play_count),\n",
    "    'year_outliers': len(outliers_year)\n",
    "}\n",
    "\n",
    "outliers_summary"
   ]
  },
  {
   "cell_type": "markdown",
   "metadata": {},
   "source": [
    "#### Plotting the outlires"
   ]
  },
  {
   "cell_type": "code",
   "execution_count": 65,
   "metadata": {},
   "outputs": [
    {
     "data": {
      "image/png": "[encoded data removed]",
      "text/plain": [
       "<Figure size 1200x600 with 1 Axes>"
      ]
     },
     "metadata": {},
     "output_type": "display_data"
    },
    {
     "data": {
      "image/png": "[encoded data removed]",
      "text/plain": [
       "<Figure size 1200x600 with 1 Axes>"
      ]
     },
     "metadata": {},
     "output_type": "display_data"
    }
   ],
   "source": [
    "# Set the style of seaborn\n",
    "sns.set(style=\"whitegrid\")\n",
    "\n",
    "# Plot outliers for 'play_count'\n",
    "plt.figure(figsize=(12, 6))\n",
    "sns.boxplot(x=df['play_count'])\n",
    "plt.title('Outliers in Play Count')\n",
    "plt.show()\n",
    "\n",
    "# Plot outliers for 'year'\n",
    "plt.figure(figsize=(12, 6))\n",
    "sns.boxplot(x=df['year'])\n",
    "plt.title('Outliers in Year')\n",
    "plt.show()"
   ]
  },
  {
   "cell_type": "markdown",
   "metadata": {},
   "source": [
    "- Its normal for some songs to be older and relased in earlier years so we will not deal with the outlires as they are significant to the data\n",
    "\n",
    "- As for the play count only one stood with a high play count of a song that is above 250 times which could be seen as normal"
   ]
  },
  {
   "cell_type": "markdown",
   "metadata": {},
   "source": [
    "#### Label Encoding"
   ]
  },
  {
   "cell_type": "code",
   "execution_count": 69,
   "metadata": {},
   "outputs": [
    {
     "data": {
      "text/html": [
       "<div>\n",
       "<style scoped>\n",
       "    .dataframe tbody tr th:only-of-type {\n",
       "        vertical-align: middle;\n",
       "    }\n",
       "\n",
       "    .dataframe tbody tr th {\n",
       "        vertical-align: top;\n",
       "    }\n",
       "\n",
       "    .dataframe thead th {\n",
       "        text-align: right;\n",
       "    }\n",
       "</style>\n",
       "<table border=\"1\" class=\"dataframe\">\n",
       "  <thead>\n",
       "    <tr style=\"text-align: right;\">\n",
       "      <th></th>\n",
       "      <th>user</th>\n",
       "      <th>song</th>\n",
       "      <th>title</th>\n",
       "      <th>play_count</th>\n",
       "      <th>release</th>\n",
       "      <th>artist_name</th>\n",
       "      <th>year</th>\n",
       "    </tr>\n",
       "  </thead>\n",
       "  <tbody>\n",
       "    <tr>\n",
       "      <th>0</th>\n",
       "      <td>6910</td>\n",
       "      <td>2851</td>\n",
       "      <td>2765</td>\n",
       "      <td>256</td>\n",
       "      <td>1765</td>\n",
       "      <td>474</td>\n",
       "      <td>2001</td>\n",
       "    </tr>\n",
       "    <tr>\n",
       "      <th>1</th>\n",
       "      <td>8181</td>\n",
       "      <td>0</td>\n",
       "      <td>1757</td>\n",
       "      <td>1</td>\n",
       "      <td>600</td>\n",
       "      <td>279</td>\n",
       "      <td>2008</td>\n",
       "    </tr>\n",
       "    <tr>\n",
       "      <th>2</th>\n",
       "      <td>1121</td>\n",
       "      <td>0</td>\n",
       "      <td>1757</td>\n",
       "      <td>1</td>\n",
       "      <td>600</td>\n",
       "      <td>279</td>\n",
       "      <td>2008</td>\n",
       "    </tr>\n",
       "    <tr>\n",
       "      <th>3</th>\n",
       "      <td>6100</td>\n",
       "      <td>0</td>\n",
       "      <td>1757</td>\n",
       "      <td>1</td>\n",
       "      <td>600</td>\n",
       "      <td>279</td>\n",
       "      <td>2008</td>\n",
       "    </tr>\n",
       "    <tr>\n",
       "      <th>4</th>\n",
       "      <td>4236</td>\n",
       "      <td>0</td>\n",
       "      <td>1757</td>\n",
       "      <td>1</td>\n",
       "      <td>600</td>\n",
       "      <td>279</td>\n",
       "      <td>2008</td>\n",
       "    </tr>\n",
       "    <tr>\n",
       "      <th>...</th>\n",
       "      <td>...</td>\n",
       "      <td>...</td>\n",
       "      <td>...</td>\n",
       "      <td>...</td>\n",
       "      <td>...</td>\n",
       "      <td>...</td>\n",
       "      <td>...</td>\n",
       "    </tr>\n",
       "    <tr>\n",
       "      <th>9995</th>\n",
       "      <td>9273</td>\n",
       "      <td>2847</td>\n",
       "      <td>1244</td>\n",
       "      <td>1</td>\n",
       "      <td>293</td>\n",
       "      <td>1984</td>\n",
       "      <td>1966</td>\n",
       "    </tr>\n",
       "    <tr>\n",
       "      <th>9996</th>\n",
       "      <td>9424</td>\n",
       "      <td>2848</td>\n",
       "      <td>2009</td>\n",
       "      <td>1</td>\n",
       "      <td>560</td>\n",
       "      <td>1266</td>\n",
       "      <td>2001</td>\n",
       "    </tr>\n",
       "    <tr>\n",
       "      <th>9997</th>\n",
       "      <td>5844</td>\n",
       "      <td>2849</td>\n",
       "      <td>1750</td>\n",
       "      <td>1</td>\n",
       "      <td>1724</td>\n",
       "      <td>2273</td>\n",
       "      <td>2006</td>\n",
       "    </tr>\n",
       "    <tr>\n",
       "      <th>9998</th>\n",
       "      <td>6058</td>\n",
       "      <td>2850</td>\n",
       "      <td>1773</td>\n",
       "      <td>1</td>\n",
       "      <td>414</td>\n",
       "      <td>1208</td>\n",
       "      <td>2003</td>\n",
       "    </tr>\n",
       "    <tr>\n",
       "      <th>9999</th>\n",
       "      <td>4741</td>\n",
       "      <td>2850</td>\n",
       "      <td>1773</td>\n",
       "      <td>1</td>\n",
       "      <td>414</td>\n",
       "      <td>1208</td>\n",
       "      <td>2003</td>\n",
       "    </tr>\n",
       "  </tbody>\n",
       "</table>\n",
       "<p>10000 rows × 7 columns</p>\n",
       "</div>"
      ],
      "text/plain": [
       "      user  song  title  play_count  release  artist_name  year\n",
       "0     6910  2851   2765         256     1765          474  2001\n",
       "1     8181     0   1757           1      600          279  2008\n",
       "2     1121     0   1757           1      600          279  2008\n",
       "3     6100     0   1757           1      600          279  2008\n",
       "4     4236     0   1757           1      600          279  2008\n",
       "...    ...   ...    ...         ...      ...          ...   ...\n",
       "9995  9273  2847   1244           1      293         1984  1966\n",
       "9996  9424  2848   2009           1      560         1266  2001\n",
       "9997  5844  2849   1750           1     1724         2273  2006\n",
       "9998  6058  2850   1773           1      414         1208  2003\n",
       "9999  4741  2850   1773           1      414         1208  2003\n",
       "\n",
       "[10000 rows x 7 columns]"
      ]
     },
     "execution_count": 69,
     "metadata": {},
     "output_type": "execute_result"
    }
   ],
   "source": [
    "# Initialize LabelEncoder\n",
    "le = LabelEncoder()\n",
    "\n",
    "# Categorical columns for label encoding\n",
    "features = ['user', 'song', 'title', 'release', 'artist_name']\n",
    "\n",
    "# Apply LabelEncoder to each categorical column\n",
    "for col in features:\n",
    "    df[col] = le.fit_transform(df[col])\n",
    "\n",
    "# Display the encoded DataFrame\n",
    "df\n"
   ]
  },
  {
   "cell_type": "code",
   "execution_count": null,
   "metadata": {},
   "outputs": [],
   "source": []
  }
 ],
 "metadata": {
  "kernelspec": {
   "display_name": "Python 3",
   "language": "python",
   "name": "python3"
  },
  "language_info": {
   "codemirror_mode": {
    "name": "ipython",
    "version": 3
   },
   "file_extension": ".py",
   "mimetype": "text/x-python",
   "name": "python",
   "nbconvert_exporter": "python",
   "pygments_lexer": "ipython3",
   "version": "3.8.8"
  }
 },
 "nbformat": 4,
 "nbformat_minor": 2
}
